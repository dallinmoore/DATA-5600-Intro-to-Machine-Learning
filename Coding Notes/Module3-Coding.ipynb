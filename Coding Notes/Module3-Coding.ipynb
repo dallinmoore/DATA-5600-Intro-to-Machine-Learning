{
 "cells": [
  {
   "cell_type": "markdown",
   "id": "2c9634ca-c2a9-4946-9bdb-5b9f60fd4d57",
   "metadata": {},
   "source": [
    "<center> <h1>Module 3 - Simple Linear Regression Model Inference</h1> </center>\n",
    "<center> <h2>Class Coding Analysis</h2> </center>"
   ]
  },
  {
   "cell_type": "code",
   "execution_count": 1,
   "id": "45a35b5c-571b-41e4-a44e-5190d2e601b5",
   "metadata": {
    "tags": []
   },
   "outputs": [
    {
     "ename": "ModuleNotFoundError",
     "evalue": "No module named 'statsmodels'",
     "output_type": "error",
     "traceback": [
      "\u001b[1;31m---------------------------------------------------------------------------\u001b[0m",
      "\u001b[1;31mModuleNotFoundError\u001b[0m                       Traceback (most recent call last)",
      "Cell \u001b[1;32mIn[1], line 6\u001b[0m\n\u001b[0;32m      4\u001b[0m \u001b[38;5;28;01mimport\u001b[39;00m \u001b[38;5;21;01mseaborn\u001b[39;00m \u001b[38;5;28;01mas\u001b[39;00m \u001b[38;5;21;01msns\u001b[39;00m\n\u001b[0;32m      5\u001b[0m \u001b[38;5;28;01mfrom\u001b[39;00m \u001b[38;5;21;01mmatplotlib\u001b[39;00m \u001b[38;5;28;01mimport\u001b[39;00m pyplot \u001b[38;5;28;01mas\u001b[39;00m plt\n\u001b[1;32m----> 6\u001b[0m \u001b[38;5;28;01mimport\u001b[39;00m \u001b[38;5;21;01mstatsmodels\u001b[39;00m\u001b[38;5;21;01m.\u001b[39;00m\u001b[38;5;21;01mapi\u001b[39;00m \u001b[38;5;28;01mas\u001b[39;00m \u001b[38;5;21;01msm\u001b[39;00m\n",
      "\u001b[1;31mModuleNotFoundError\u001b[0m: No module named 'statsmodels'"
     ]
    }
   ],
   "source": [
    "import pandas as pd\n",
    "import numpy as np\n",
    "import scipy.stats as stats\n",
    "import seaborn as sns\n",
    "from matplotlib import pyplot as plt\n",
    "import statsmodels.api as sm"
   ]
  },
  {
   "cell_type": "markdown",
   "id": "ac41455b-9809-49a8-912b-07c48789a6f5",
   "metadata": {},
   "source": [
    "## Data and Description\n",
    "\n",
    "Recent increases in gas prices make buyers more prone to purchase a car with better gas mileage, as measured by the **miles per gallon (MPG)**. Because of this, car manufacturers are increasingly trying to produce the car that gives the best MPG. Complicating this process are the many factors that go into determining what gas mileage a car will achieve on the road.\n",
    "\n",
    "One such factor is the **weight** of the car. While \n",
    "it is generally understood that heavier cars will experience fewer MPG, there is little understanding of how much an increase in weight will lead to a decrease MPG. By understanding this relationship, manufacturers will be able to perform a cost--benefit analysis that will assist them in their vehicle production.\n",
    "\n",
    "The MPG data set contains measurements of the **weight (column 1)** (in pounds) and **MPG (column 2)** of 289 cars. Download the MPGData.txt file from Canvas, and put it in the same folder as this ipynb file."
   ]
  },
  {
   "cell_type": "markdown",
   "id": "b2a26b89",
   "metadata": {},
   "source": [
    "### Read in the data set, and look at a summary of the data."
   ]
  },
  {
   "cell_type": "code",
   "execution_count": 2,
   "id": "a13bed84-13f1-44c1-b814-8c2b08fae4e9",
   "metadata": {
    "tags": []
   },
   "outputs": [
    {
     "data": {
      "text/html": [
       "<div>\n",
       "<style scoped>\n",
       "    .dataframe tbody tr th:only-of-type {\n",
       "        vertical-align: middle;\n",
       "    }\n",
       "\n",
       "    .dataframe tbody tr th {\n",
       "        vertical-align: top;\n",
       "    }\n",
       "\n",
       "    .dataframe thead th {\n",
       "        text-align: right;\n",
       "    }\n",
       "</style>\n",
       "<table border=\"1\" class=\"dataframe\">\n",
       "  <thead>\n",
       "    <tr style=\"text-align: right;\">\n",
       "      <th></th>\n",
       "      <th>Weight</th>\n",
       "      <th>MPG</th>\n",
       "    </tr>\n",
       "  </thead>\n",
       "  <tbody>\n",
       "    <tr>\n",
       "      <th>0</th>\n",
       "      <td>3436</td>\n",
       "      <td>18.0</td>\n",
       "    </tr>\n",
       "    <tr>\n",
       "      <th>1</th>\n",
       "      <td>3433</td>\n",
       "      <td>16.0</td>\n",
       "    </tr>\n",
       "    <tr>\n",
       "      <th>2</th>\n",
       "      <td>3449</td>\n",
       "      <td>17.0</td>\n",
       "    </tr>\n",
       "    <tr>\n",
       "      <th>3</th>\n",
       "      <td>3086</td>\n",
       "      <td>14.0</td>\n",
       "    </tr>\n",
       "    <tr>\n",
       "      <th>4</th>\n",
       "      <td>2372</td>\n",
       "      <td>24.0</td>\n",
       "    </tr>\n",
       "  </tbody>\n",
       "</table>\n",
       "</div>"
      ],
      "text/plain": [
       "   Weight   MPG\n",
       "0    3436  18.0\n",
       "1    3433  16.0\n",
       "2    3449  17.0\n",
       "3    3086  14.0\n",
       "4    2372  24.0"
      ]
     },
     "execution_count": 2,
     "metadata": {},
     "output_type": "execute_result"
    }
   ],
   "source": [
    "# Note: this code is all from Module 1\n",
    "cars = pd.read_table(\"MPGData.txt\", \n",
    "                     delimiter = ' ')\n",
    "cars.head()"
   ]
  },
  {
   "cell_type": "markdown",
   "id": "8f8dc6f1",
   "metadata": {},
   "source": [
    "### Apply linear regression to the (log(Y)) *transformed* data"
   ]
  },
  {
   "cell_type": "code",
   "execution_count": 3,
   "id": "626f6995",
   "metadata": {},
   "outputs": [
    {
     "name": "stdout",
     "output_type": "stream",
     "text": [
      "                            OLS Regression Results                            \n",
      "==============================================================================\n",
      "Dep. Variable:              MPG_trans   R-squared:                       0.542\n",
      "Model:                            OLS   Adj. R-squared:                  0.540\n",
      "Method:                 Least Squares   F-statistic:                     339.1\n",
      "Date:                Tue, 24 Sep 2024   Prob (F-statistic):           1.54e-50\n",
      "Time:                        13:02:55   Log-Likelihood:                 100.46\n",
      "No. Observations:                 289   AIC:                            -196.9\n",
      "Df Residuals:                     287   BIC:                            -189.6\n",
      "Df Model:                           1                                         \n",
      "Covariance Type:            nonrobust                                         \n",
      "==============================================================================\n",
      "                 coef    std err          t      P>|t|      [0.025      0.975]\n",
      "------------------------------------------------------------------------------\n",
      "const          4.2262      0.054     78.443      0.000       4.120       4.332\n",
      "Weight        -0.0004   2.09e-05    -18.416      0.000      -0.000      -0.000\n",
      "==============================================================================\n",
      "Omnibus:                        5.296   Durbin-Watson:                   0.673\n",
      "Prob(Omnibus):                  0.071   Jarque-Bera (JB):                5.155\n",
      "Skew:                           0.258   Prob(JB):                       0.0760\n",
      "Kurtosis:                       3.402   Cond. No.                     1.38e+04\n",
      "==============================================================================\n",
      "\n",
      "Notes:\n",
      "[1] Standard Errors assume that the covariance matrix of the errors is correctly specified.\n",
      "[2] The condition number is large, 1.38e+04. This might indicate that there are\n",
      "strong multicollinearity or other numerical problems.\n"
     ]
    }
   ],
   "source": [
    "# Note: this code is all from Module 2\n",
    "# Fit model with log(Y) transform\n",
    "cars['MPG_trans'] = np.log(cars['MPG'])\n",
    "y = cars['MPG_trans']\n",
    "X = sm.add_constant(cars['Weight'])\n",
    "\n",
    "mod = sm.OLS(y, X)\n",
    "res_trans = mod.fit()\n",
    "print(res_trans.summary())\n",
    "\n",
    "cars['residuals_trans'] = res_trans.resid\n",
    "cars['fittedvalues_trans'] = res_trans.fittedvalues"
   ]
  },
  {
   "cell_type": "code",
   "execution_count": 4,
   "id": "cbe1ee5d",
   "metadata": {},
   "outputs": [
    {
     "data": {
      "text/html": [
       "<div>\n",
       "<style scoped>\n",
       "    .dataframe tbody tr th:only-of-type {\n",
       "        vertical-align: middle;\n",
       "    }\n",
       "\n",
       "    .dataframe tbody tr th {\n",
       "        vertical-align: top;\n",
       "    }\n",
       "\n",
       "    .dataframe thead th {\n",
       "        text-align: right;\n",
       "    }\n",
       "</style>\n",
       "<table border=\"1\" class=\"dataframe\">\n",
       "  <thead>\n",
       "    <tr style=\"text-align: right;\">\n",
       "      <th></th>\n",
       "      <th>const</th>\n",
       "      <th>Weight</th>\n",
       "    </tr>\n",
       "  </thead>\n",
       "  <tbody>\n",
       "    <tr>\n",
       "      <th>0</th>\n",
       "      <td>1.0</td>\n",
       "      <td>3436</td>\n",
       "    </tr>\n",
       "    <tr>\n",
       "      <th>1</th>\n",
       "      <td>1.0</td>\n",
       "      <td>3433</td>\n",
       "    </tr>\n",
       "    <tr>\n",
       "      <th>2</th>\n",
       "      <td>1.0</td>\n",
       "      <td>3449</td>\n",
       "    </tr>\n",
       "    <tr>\n",
       "      <th>3</th>\n",
       "      <td>1.0</td>\n",
       "      <td>3086</td>\n",
       "    </tr>\n",
       "    <tr>\n",
       "      <th>4</th>\n",
       "      <td>1.0</td>\n",
       "      <td>2372</td>\n",
       "    </tr>\n",
       "    <tr>\n",
       "      <th>...</th>\n",
       "      <td>...</td>\n",
       "      <td>...</td>\n",
       "    </tr>\n",
       "    <tr>\n",
       "      <th>284</th>\n",
       "      <td>1.0</td>\n",
       "      <td>2790</td>\n",
       "    </tr>\n",
       "    <tr>\n",
       "      <th>285</th>\n",
       "      <td>1.0</td>\n",
       "      <td>2130</td>\n",
       "    </tr>\n",
       "    <tr>\n",
       "      <th>286</th>\n",
       "      <td>1.0</td>\n",
       "      <td>2295</td>\n",
       "    </tr>\n",
       "    <tr>\n",
       "      <th>287</th>\n",
       "      <td>1.0</td>\n",
       "      <td>2625</td>\n",
       "    </tr>\n",
       "    <tr>\n",
       "      <th>288</th>\n",
       "      <td>1.0</td>\n",
       "      <td>2720</td>\n",
       "    </tr>\n",
       "  </tbody>\n",
       "</table>\n",
       "<p>289 rows × 2 columns</p>\n",
       "</div>"
      ],
      "text/plain": [
       "     const  Weight\n",
       "0      1.0    3436\n",
       "1      1.0    3433\n",
       "2      1.0    3449\n",
       "3      1.0    3086\n",
       "4      1.0    2372\n",
       "..     ...     ...\n",
       "284    1.0    2790\n",
       "285    1.0    2130\n",
       "286    1.0    2295\n",
       "287    1.0    2625\n",
       "288    1.0    2720\n",
       "\n",
       "[289 rows x 2 columns]"
      ]
     },
     "execution_count": 4,
     "metadata": {},
     "output_type": "execute_result"
    }
   ],
   "source": [
    "X"
   ]
  },
  {
   "cell_type": "markdown",
   "id": "b7f67658",
   "metadata": {},
   "source": [
    "### Save the back-transformed predictions to the cars dataframe."
   ]
  },
  {
   "cell_type": "code",
   "execution_count": 5,
   "id": "c74302f4",
   "metadata": {},
   "outputs": [
    {
     "data": {
      "text/html": [
       "<div>\n",
       "<style scoped>\n",
       "    .dataframe tbody tr th:only-of-type {\n",
       "        vertical-align: middle;\n",
       "    }\n",
       "\n",
       "    .dataframe tbody tr th {\n",
       "        vertical-align: top;\n",
       "    }\n",
       "\n",
       "    .dataframe thead th {\n",
       "        text-align: right;\n",
       "    }\n",
       "</style>\n",
       "<table border=\"1\" class=\"dataframe\">\n",
       "  <thead>\n",
       "    <tr style=\"text-align: right;\">\n",
       "      <th></th>\n",
       "      <th>Weight</th>\n",
       "      <th>MPG</th>\n",
       "      <th>MPG_trans</th>\n",
       "      <th>residuals_trans</th>\n",
       "      <th>fittedvalues_trans</th>\n",
       "      <th>fittedvalues_orig_scale</th>\n",
       "    </tr>\n",
       "  </thead>\n",
       "  <tbody>\n",
       "    <tr>\n",
       "      <th>0</th>\n",
       "      <td>3436</td>\n",
       "      <td>18.0</td>\n",
       "      <td>2.890372</td>\n",
       "      <td>-0.014834</td>\n",
       "      <td>2.905206</td>\n",
       "      <td>18.269005</td>\n",
       "    </tr>\n",
       "    <tr>\n",
       "      <th>1</th>\n",
       "      <td>3433</td>\n",
       "      <td>16.0</td>\n",
       "      <td>2.772589</td>\n",
       "      <td>-0.133771</td>\n",
       "      <td>2.906359</td>\n",
       "      <td>18.290089</td>\n",
       "    </tr>\n",
       "    <tr>\n",
       "      <th>2</th>\n",
       "      <td>3449</td>\n",
       "      <td>17.0</td>\n",
       "      <td>2.833213</td>\n",
       "      <td>-0.066995</td>\n",
       "      <td>2.900208</td>\n",
       "      <td>18.177923</td>\n",
       "    </tr>\n",
       "    <tr>\n",
       "      <th>3</th>\n",
       "      <td>3086</td>\n",
       "      <td>14.0</td>\n",
       "      <td>2.639057</td>\n",
       "      <td>-0.400712</td>\n",
       "      <td>3.039769</td>\n",
       "      <td>20.900419</td>\n",
       "    </tr>\n",
       "    <tr>\n",
       "      <th>4</th>\n",
       "      <td>2372</td>\n",
       "      <td>24.0</td>\n",
       "      <td>3.178054</td>\n",
       "      <td>-0.136225</td>\n",
       "      <td>3.314278</td>\n",
       "      <td>27.502540</td>\n",
       "    </tr>\n",
       "  </tbody>\n",
       "</table>\n",
       "</div>"
      ],
      "text/plain": [
       "   Weight   MPG  MPG_trans  residuals_trans  fittedvalues_trans  \\\n",
       "0    3436  18.0   2.890372        -0.014834            2.905206   \n",
       "1    3433  16.0   2.772589        -0.133771            2.906359   \n",
       "2    3449  17.0   2.833213        -0.066995            2.900208   \n",
       "3    3086  14.0   2.639057        -0.400712            3.039769   \n",
       "4    2372  24.0   3.178054        -0.136225            3.314278   \n",
       "\n",
       "   fittedvalues_orig_scale  \n",
       "0                18.269005  \n",
       "1                18.290089  \n",
       "2                18.177923  \n",
       "3                20.900419  \n",
       "4                27.502540  "
      ]
     },
     "execution_count": 5,
     "metadata": {},
     "output_type": "execute_result"
    }
   ],
   "source": [
    "cars['fittedvalues_orig_scale'] = np.exp(res_trans.fittedvalues)\n",
    "cars.head()"
   ]
  },
  {
   "cell_type": "markdown",
   "id": "8fc08547",
   "metadata": {},
   "source": [
    "### Create a scatterplot of the data, and overlay the *transformed* linear regression line."
   ]
  },
  {
   "cell_type": "code",
   "execution_count": 6,
   "id": "3370a982",
   "metadata": {},
   "outputs": [
    {
     "data": {
      "image/png": "[encoded data removed]",
      "text/plain": [
       "<Figure size 400x400 with 1 Axes>"
      ]
     },
     "metadata": {},
     "output_type": "display_data"
    }
   ],
   "source": [
    "# Note: this code is adapted from Module 2\n",
    "\n",
    "# Create a sequence of 100 Weight values\n",
    "weight_values = np.linspace(cars['Weight'].min(), \n",
    "                            cars['Weight'].max(), \n",
    "                            num = 100)\n",
    "\n",
    "# Predict log(MPG) using the linear model using the newly created Weight values\n",
    "X = sm.add_constant(pd.DataFrame({'Weight': weight_values}))\n",
    "log_mpg_preds = res_trans.predict(X)\n",
    "\n",
    "# Back-transform the predictions (y_i-hat) to MPG\n",
    "mpg_preds = np.exp(log_mpg_preds)\n",
    "\n",
    "# Store results in a DataFrame for plotting\n",
    "preds = pd.DataFrame({\"Weight_values\": weight_values, \n",
    "                      \"MPG_preds\": mpg_preds})\n",
    "\n",
    "# Plot the predictions on the original scale\n",
    "\n",
    "def cars_scatter_ols(x, y):\n",
    "    plt.figure(figsize = (4, 4))\n",
    "    plt.scatter(x, \n",
    "                y, \n",
    "                s = 3)\n",
    "    plt.plot(preds['Weight_values'],\n",
    "             preds['MPG_preds'], \n",
    "             color = \"r\")\n",
    "    plt.xlabel(\"Weight (lbs)\")\n",
    "    plt.ylabel(\"MPG\")\n",
    "    \n",
    "cars_scatter_ols(cars['Weight'], cars['MPG'])\n",
    "plt.show()"
   ]
  },
  {
   "cell_type": "markdown",
   "id": "38a56e02-76ee-4e38-8616-4e04f362bc68",
   "metadata": {},
   "source": [
    "## Statistical Inference for the Slope"
   ]
  },
  {
   "cell_type": "markdown",
   "id": "ea2bef10-9f81-4561-94aa-8afbca75059b",
   "metadata": {},
   "source": [
    "### Call (print) the 95% confidence interval for the slope as reported in the summary output."
   ]
  },
  {
   "cell_type": "code",
   "execution_count": 7,
   "id": "f7ab0aeb",
   "metadata": {},
   "outputs": [],
   "source": [
    "# dir(res_trans)"
   ]
  },
  {
   "cell_type": "code",
   "execution_count": 8,
   "id": "5d6661fe",
   "metadata": {},
   "outputs": [],
   "source": [
    "# res_trans.conf_int()"
   ]
  },
  {
   "cell_type": "code",
   "execution_count": 9,
   "id": "3135fe49",
   "metadata": {},
   "outputs": [
    {
     "data": {
      "text/plain": [
       "0   -0.000426\n",
       "1   -0.000343\n",
       "Name: Weight, dtype: float64"
      ]
     },
     "execution_count": 9,
     "metadata": {},
     "output_type": "execute_result"
    }
   ],
   "source": [
    "res_trans.conf_int().loc['Weight', :]"
   ]
  },
  {
   "cell_type": "markdown",
   "id": "1d09bccc",
   "metadata": {},
   "source": [
    "The confidence interval does not include 0 so it is significance.\n",
    "\n",
    "(including 0 would mean that it probably doesn't matter because there is no effect)"
   ]
  },
  {
   "cell_type": "markdown",
   "id": "a0102029-47b1-442c-89e9-809791dd907d",
   "metadata": {},
   "source": [
    "### Call (print) the test stastistic and corresponding p-value from the hypothesis test for the slope. "
   ]
  },
  {
   "cell_type": "code",
   "execution_count": 10,
   "id": "239232d7",
   "metadata": {},
   "outputs": [],
   "source": [
    "# res_trans.tvalues"
   ]
  },
  {
   "cell_type": "code",
   "execution_count": 11,
   "id": "0ac7a9dd",
   "metadata": {},
   "outputs": [],
   "source": [
    "# res_trans.pvalues"
   ]
  },
  {
   "cell_type": "code",
   "execution_count": 12,
   "id": "a56831ba",
   "metadata": {},
   "outputs": [
    {
     "name": "stdout",
     "output_type": "stream",
     "text": [
      "The test statistic for Weight is  -18.42  and the corresponding p-value is  1.5406412523069353e-50\n"
     ]
    }
   ],
   "source": [
    "print(\"The test statistic for Weight is \", \n",
    "      round(res_trans.tvalues['Weight'], 2), \n",
    "      \" and the corresponding p-value is \",\n",
    "      res_trans.pvalues['Weight'])"
   ]
  },
  {
   "cell_type": "markdown",
   "id": "503d28c9-eaad-4ab9-a27a-217be0e01f2c",
   "metadata": {
    "tags": []
   },
   "source": [
    "## Statistical Inference for the Mean of Y"
   ]
  },
  {
   "cell_type": "markdown",
   "id": "87f8101e-8a09-4793-8611-fba031376c3b",
   "metadata": {},
   "source": [
    "### Calculate a 95% confidence interval for the average of $Y$ (on the original scale) when $x=3000$ lbs."
   ]
  },
  {
   "cell_type": "code",
   "execution_count": 13,
   "id": "e741ca9d-fde6-4eca-a389-b62f86c4ea89",
   "metadata": {
    "tags": []
   },
   "outputs": [
    {
     "data": {
      "text/html": [
       "<div>\n",
       "<style scoped>\n",
       "    .dataframe tbody tr th:only-of-type {\n",
       "        vertical-align: middle;\n",
       "    }\n",
       "\n",
       "    .dataframe tbody tr th {\n",
       "        vertical-align: top;\n",
       "    }\n",
       "\n",
       "    .dataframe thead th {\n",
       "        text-align: right;\n",
       "    }\n",
       "</style>\n",
       "<table border=\"1\" class=\"dataframe\">\n",
       "  <thead>\n",
       "    <tr style=\"text-align: right;\">\n",
       "      <th></th>\n",
       "      <th>mean_ci_lower</th>\n",
       "      <th>mean_ci_upper</th>\n",
       "    </tr>\n",
       "  </thead>\n",
       "  <tbody>\n",
       "    <tr>\n",
       "      <th>0</th>\n",
       "      <td>21.01584</td>\n",
       "      <td>22.206616</td>\n",
       "    </tr>\n",
       "  </tbody>\n",
       "</table>\n",
       "</div>"
      ],
      "text/plain": [
       "   mean_ci_lower  mean_ci_upper\n",
       "0       21.01584      22.206616"
      ]
     },
     "execution_count": 13,
     "metadata": {},
     "output_type": "execute_result"
    }
   ],
   "source": [
    "pred = res_trans.get_prediction([1, 3000])\n",
    "np.exp(pred.summary_frame(alpha = 0.05).loc[:, ['mean_ci_lower', 'mean_ci_upper']])"
   ]
  },
  {
   "cell_type": "code",
   "execution_count": 14,
   "id": "6c88d050",
   "metadata": {},
   "outputs": [],
   "source": [
    "# dir(pred)"
   ]
  },
  {
   "cell_type": "code",
   "execution_count": 15,
   "id": "fd541fa8",
   "metadata": {},
   "outputs": [
    {
     "data": {
      "text/html": [
       "<div>\n",
       "<style scoped>\n",
       "    .dataframe tbody tr th:only-of-type {\n",
       "        vertical-align: middle;\n",
       "    }\n",
       "\n",
       "    .dataframe tbody tr th {\n",
       "        vertical-align: top;\n",
       "    }\n",
       "\n",
       "    .dataframe thead th {\n",
       "        text-align: right;\n",
       "    }\n",
       "</style>\n",
       "<table border=\"1\" class=\"dataframe\">\n",
       "  <thead>\n",
       "    <tr style=\"text-align: right;\">\n",
       "      <th></th>\n",
       "      <th>mean</th>\n",
       "      <th>mean_se</th>\n",
       "      <th>mean_ci_lower</th>\n",
       "      <th>mean_ci_upper</th>\n",
       "      <th>obs_ci_lower</th>\n",
       "      <th>obs_ci_upper</th>\n",
       "    </tr>\n",
       "  </thead>\n",
       "  <tbody>\n",
       "    <tr>\n",
       "      <th>0</th>\n",
       "      <td>3.072833</td>\n",
       "      <td>0.014001</td>\n",
       "      <td>3.045276</td>\n",
       "      <td>3.10039</td>\n",
       "      <td>2.73412</td>\n",
       "      <td>3.411547</td>\n",
       "    </tr>\n",
       "  </tbody>\n",
       "</table>\n",
       "</div>"
      ],
      "text/plain": [
       "       mean   mean_se  mean_ci_lower  mean_ci_upper  obs_ci_lower  \\\n",
       "0  3.072833  0.014001       3.045276        3.10039       2.73412   \n",
       "\n",
       "   obs_ci_upper  \n",
       "0      3.411547  "
      ]
     },
     "execution_count": 15,
     "metadata": {},
     "output_type": "execute_result"
    }
   ],
   "source": [
    "pred.summary_frame()"
   ]
  },
  {
   "cell_type": "code",
   "execution_count": 16,
   "id": "bdb7790d",
   "metadata": {},
   "outputs": [
    {
     "name": "stdout",
     "output_type": "stream",
     "text": [
      "21.016 22.207\n"
     ]
    }
   ],
   "source": [
    "print(round(np.exp(3.045276), 3), round(np.exp(3.10039), 3))"
   ]
  },
  {
   "cell_type": "markdown",
   "id": "da32c242-f778-48bc-bda3-72099d1713fb",
   "metadata": {},
   "source": [
    "### Create a confidence band for the average of $Y$ across all values of $X$, and overlay this band (using a distinct color) on your previous scatterplot."
   ]
  },
  {
   "cell_type": "code",
   "execution_count": 17,
   "id": "38dd5a58",
   "metadata": {},
   "outputs": [
    {
     "data": {
      "image/png": "[encoded data removed]",
      "text/plain": [
       "<Figure size 400x400 with 1 Axes>"
      ]
     },
     "metadata": {},
     "output_type": "display_data"
    }
   ],
   "source": [
    "# Define Precip values to predict\n",
    "x = np.linspace(min(cars['Weight']), \n",
    "                max(cars['Weight']), \n",
    "                num = 200)\n",
    "X = np.vstack((np.ones(200), x)).T\n",
    "\n",
    "# Predict and store results with confidence intervals\n",
    "pred_trans = res_trans.get_prediction(X).summary_frame(alpha = 0.05)\n",
    "\n",
    "# Plot the predictions\n",
    "cars_scatter_ols(cars['Weight'], cars['MPG'])\n",
    "plt.fill_between(x, \n",
    "                 np.exp(pred_trans['mean_ci_lower']), \n",
    "                 np.exp(pred_trans['mean_ci_upper']), \n",
    "                 color = 'blue',\n",
    "                 alpha = 0.2)\n",
    "plt.show()"
   ]
  },
  {
   "cell_type": "code",
   "execution_count": 18,
   "id": "9c89a1f4",
   "metadata": {},
   "outputs": [],
   "source": [
    "# X"
   ]
  },
  {
   "cell_type": "code",
   "execution_count": 19,
   "id": "b7dad5d9",
   "metadata": {},
   "outputs": [],
   "source": [
    "# pred_trans"
   ]
  },
  {
   "cell_type": "markdown",
   "id": "f520ccb8-c1a8-45dd-87f0-614396ba73e8",
   "metadata": {},
   "source": [
    "## Statistical Inference for the Individual Observations"
   ]
  },
  {
   "cell_type": "markdown",
   "id": "0a9c94f5-865a-4300-a9a4-8143f7f2ec1f",
   "metadata": {},
   "source": [
    "### Calculate a 95% prediction interval for $Y$ (on the original scale) when $x=3000$ lbs."
   ]
  },
  {
   "cell_type": "code",
   "execution_count": 20,
   "id": "b84877c0-63a6-4e28-9a8c-7a35abadc347",
   "metadata": {
    "tags": []
   },
   "outputs": [
    {
     "data": {
      "text/html": [
       "<div>\n",
       "<style scoped>\n",
       "    .dataframe tbody tr th:only-of-type {\n",
       "        vertical-align: middle;\n",
       "    }\n",
       "\n",
       "    .dataframe tbody tr th {\n",
       "        vertical-align: top;\n",
       "    }\n",
       "\n",
       "    .dataframe thead th {\n",
       "        text-align: right;\n",
       "    }\n",
       "</style>\n",
       "<table border=\"1\" class=\"dataframe\">\n",
       "  <thead>\n",
       "    <tr style=\"text-align: right;\">\n",
       "      <th></th>\n",
       "      <th>obs_ci_lower</th>\n",
       "      <th>obs_ci_upper</th>\n",
       "    </tr>\n",
       "  </thead>\n",
       "  <tbody>\n",
       "    <tr>\n",
       "      <th>0</th>\n",
       "      <td>15.396191</td>\n",
       "      <td>30.312086</td>\n",
       "    </tr>\n",
       "  </tbody>\n",
       "</table>\n",
       "</div>"
      ],
      "text/plain": [
       "   obs_ci_lower  obs_ci_upper\n",
       "0     15.396191     30.312086"
      ]
     },
     "execution_count": 20,
     "metadata": {},
     "output_type": "execute_result"
    }
   ],
   "source": [
    "pred = res_trans.get_prediction([1, 3000])\n",
    "np.exp(pred.summary_frame(alpha = 0.05).loc[:, ['obs_ci_lower', 'obs_ci_upper']])"
   ]
  },
  {
   "cell_type": "code",
   "execution_count": 21,
   "id": "c68bfe20",
   "metadata": {},
   "outputs": [],
   "source": [
    "# pred.summary_frame(alpha = 0.05)"
   ]
  },
  {
   "cell_type": "markdown",
   "id": "b6e28913-88ae-4fab-b96e-b9f501ff42e3",
   "metadata": {},
   "source": [
    "### Create a prediction band for $Y$ across all values of $X$, and overlay this band (using a distinct color) on your previous scatterplot."
   ]
  },
  {
   "cell_type": "code",
   "execution_count": 22,
   "id": "8c446325",
   "metadata": {},
   "outputs": [
    {
     "data": {
      "image/png": "[encoded data removed]",
      "text/plain": [
       "<Figure size 400x400 with 1 Axes>"
      ]
     },
     "metadata": {},
     "output_type": "display_data"
    }
   ],
   "source": [
    "# Plot the predictions\n",
    "cars_scatter_ols(cars['Weight'], cars['MPG'])\n",
    "plt.fill_between(x, \n",
    "                 np.exp(pred_trans['obs_ci_lower']), \n",
    "                 np.exp(pred_trans['obs_ci_upper']), \n",
    "                 color = 'blue',\n",
    "                 alpha = 0.2)\n",
    "plt.show()"
   ]
  },
  {
   "cell_type": "markdown",
   "id": "ada6db55-1114-4ecd-8bfa-b07cdd24a1b5",
   "metadata": {},
   "source": [
    "## Model Evaluation Metrics"
   ]
  },
  {
   "cell_type": "markdown",
   "id": "ad7c4cb8-da70-4686-b808-9488276e1a6d",
   "metadata": {},
   "source": [
    "### Compute the MSE."
   ]
  },
  {
   "cell_type": "code",
   "execution_count": 23,
   "id": "90dd4b5a",
   "metadata": {},
   "outputs": [
    {
     "data": {
      "text/plain": [
       "22.393368899595856"
      ]
     },
     "execution_count": 23,
     "metadata": {},
     "output_type": "execute_result"
    }
   ],
   "source": [
    "mse = np.sum((cars['MPG'] - cars['fittedvalues_orig_scale']) ** 2) / (len(cars) - 2)\n",
    "mse"
   ]
  },
  {
   "cell_type": "markdown",
   "id": "2f64b147-a365-44b5-b204-b2d13e4bcf76",
   "metadata": {},
   "source": [
    "### Compute the MAE"
   ]
  },
  {
   "cell_type": "code",
   "execution_count": 24,
   "id": "3f2a0450",
   "metadata": {},
   "outputs": [
    {
     "data": {
      "text/plain": [
       "3.6126674313708786"
      ]
     },
     "execution_count": 24,
     "metadata": {},
     "output_type": "execute_result"
    }
   ],
   "source": [
    "mae = np.sum(np.abs(cars['MPG'] - cars['fittedvalues_orig_scale'])) / (len(cars) - 2)\n",
    "mae"
   ]
  },
  {
   "cell_type": "markdown",
   "id": "c55b37d3-93e5-4bae-97e4-50554a79c5ae",
   "metadata": {
    "tags": []
   },
   "source": [
    "### Call (print) the R-Squared value from the model results"
   ]
  },
  {
   "cell_type": "code",
   "execution_count": 25,
   "id": "9e2e204b-dd87-47b5-a1be-4cb188436c88",
   "metadata": {
    "tags": []
   },
   "outputs": [
    {
     "data": {
      "text/plain": [
       "0.5416"
      ]
     },
     "execution_count": 25,
     "metadata": {},
     "output_type": "execute_result"
    }
   ],
   "source": [
    "round(res_trans.rsquared, 4)"
   ]
  },
  {
   "cell_type": "markdown",
   "id": "aff4483f",
   "metadata": {},
   "source": [
    "### Call (print) the adjusted R-Squared value from the model results"
   ]
  },
  {
   "cell_type": "code",
   "execution_count": 26,
   "id": "d01fb53f",
   "metadata": {},
   "outputs": [
    {
     "data": {
      "text/plain": [
       "0.54"
      ]
     },
     "execution_count": 26,
     "metadata": {},
     "output_type": "execute_result"
    }
   ],
   "source": [
    "round(res_trans.rsquared_adj, 4)"
   ]
  },
  {
   "cell_type": "markdown",
   "id": "c7321934",
   "metadata": {},
   "source": [
    "### Call (print) the test stastistic and corresponding p-value from the F-test"
   ]
  },
  {
   "cell_type": "code",
   "execution_count": 27,
   "id": "c8eaaf46",
   "metadata": {},
   "outputs": [
    {
     "name": "stdout",
     "output_type": "stream",
     "text": [
      "The test statistic for the F-test is  339.15  and the corresponding p-value is  1.5406412523071656e-50\n"
     ]
    }
   ],
   "source": [
    "print(\"The test statistic for the F-test is \", \n",
    "      round(res_trans.fvalue, 2), \n",
    "      \" and the corresponding p-value is \",\n",
    "      res_trans.f_pvalue)"
   ]
  }
 ],
 "metadata": {
  "kernelspec": {
   "display_name": "Python 3 (ipykernel)",
   "language": "python",
   "name": "python3"
  },
  "language_info": {
   "codemirror_mode": {
    "name": "ipython",
    "version": 3
   },
   "file_extension": ".py",
   "mimetype": "text/x-python",
   "name": "python",
   "nbconvert_exporter": "python",
   "pygments_lexer": "ipython3",
   "version": "3.9.13"
  }
 },
 "nbformat": 4,
 "nbformat_minor": 5
}
