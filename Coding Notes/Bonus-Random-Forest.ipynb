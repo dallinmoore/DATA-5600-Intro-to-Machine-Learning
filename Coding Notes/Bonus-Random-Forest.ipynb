{
 "cells": [
  {
   "cell_type": "markdown",
   "metadata": {},
   "source": [
    "<center>\n",
    "\n",
    "# Decision Trees\n",
    "## Bonus Lectures - DATA 5600\n",
    "\n",
    "20 November 2024\n",
    "</center>"
   ]
  },
  {
   "cell_type": "code",
   "execution_count": 30,
   "metadata": {},
   "outputs": [],
   "source": [
    "# import libraries\n",
    "import numpy as np\n",
    "import pandas as pd\n",
    "import matplotlib.pyplot as plt\n",
    "from sklearn.model_selection import train_test_split\n",
    "from sklearn.tree import DecisionTreeClassifier\n",
    "from sklearn.metrics import accuracy_score, ConfusionMatrixDisplay, confusion_matrix\n"
   ]
  },
  {
   "cell_type": "code",
   "execution_count": 3,
   "metadata": {},
   "outputs": [
    {
     "data": {
      "text/html": [
       "<div>\n",
       "<style scoped>\n",
       "    .dataframe tbody tr th:only-of-type {\n",
       "        vertical-align: middle;\n",
       "    }\n",
       "\n",
       "    .dataframe tbody tr th {\n",
       "        vertical-align: top;\n",
       "    }\n",
       "\n",
       "    .dataframe thead th {\n",
       "        text-align: right;\n",
       "    }\n",
       "</style>\n",
       "<table border=\"1\" class=\"dataframe\">\n",
       "  <thead>\n",
       "    <tr style=\"text-align: right;\">\n",
       "      <th></th>\n",
       "      <th>sys_RespNum</th>\n",
       "      <th>sys_StartTime</th>\n",
       "      <th>sys_EndTime</th>\n",
       "      <th>sys_LastQuestion</th>\n",
       "      <th>sys_CBC_CBC1_design</th>\n",
       "      <th>sys_CBC_CBC1_design_info</th>\n",
       "      <th>S1</th>\n",
       "      <th>S1A</th>\n",
       "      <th>S1B</th>\n",
       "      <th>S1C</th>\n",
       "      <th>...</th>\n",
       "      <th>D3Neighborhood</th>\n",
       "      <th>D4MaritalStatus</th>\n",
       "      <th>D4A</th>\n",
       "      <th>D4B</th>\n",
       "      <th>D5Occupation</th>\n",
       "      <th>D5Occupation_11_other</th>\n",
       "      <th>D6Education</th>\n",
       "      <th>D6Education_6_other</th>\n",
       "      <th>D7Ethnicity</th>\n",
       "      <th>D7Ethnicity_7_other</th>\n",
       "    </tr>\n",
       "  </thead>\n",
       "  <tbody>\n",
       "    <tr>\n",
       "      <th>0</th>\n",
       "      <td>2</td>\n",
       "      <td>1456893467</td>\n",
       "      <td>1456893958</td>\n",
       "      <td>Finished</td>\n",
       "      <td>[[1,1,1,2,1,2,2,1],[2,3,2,2,1,1,2,2],[3,2,1,2,...</td>\n",
       "      <td>{\"atts\"=&gt;[[1,4,0],[2,2,1],[3,2,1],[4,2,1],[5,2...</td>\n",
       "      <td>4</td>\n",
       "      <td>NaN</td>\n",
       "      <td>NaN</td>\n",
       "      <td>NaN</td>\n",
       "      <td>...</td>\n",
       "      <td>2</td>\n",
       "      <td>2</td>\n",
       "      <td>NaN</td>\n",
       "      <td>NaN</td>\n",
       "      <td>8</td>\n",
       "      <td>NaN</td>\n",
       "      <td>3</td>\n",
       "      <td>NaN</td>\n",
       "      <td>2</td>\n",
       "      <td>NaN</td>\n",
       "    </tr>\n",
       "    <tr>\n",
       "      <th>1</th>\n",
       "      <td>3</td>\n",
       "      <td>1456893643</td>\n",
       "      <td>1456893998</td>\n",
       "      <td>Finished</td>\n",
       "      <td>[[1,4,2,1,2,1,1,1],[2,3,1,1,1,2,2,4],[3,1,2,2,...</td>\n",
       "      <td>{\"atts\"=&gt;[[1,4,0],[2,2,1],[3,2,1],[4,2,1],[5,2...</td>\n",
       "      <td>1</td>\n",
       "      <td>2.0</td>\n",
       "      <td>2.0</td>\n",
       "      <td>1.0</td>\n",
       "      <td>...</td>\n",
       "      <td>2</td>\n",
       "      <td>2</td>\n",
       "      <td>NaN</td>\n",
       "      <td>NaN</td>\n",
       "      <td>1</td>\n",
       "      <td>NaN</td>\n",
       "      <td>5</td>\n",
       "      <td>NaN</td>\n",
       "      <td>3</td>\n",
       "      <td>NaN</td>\n",
       "    </tr>\n",
       "    <tr>\n",
       "      <th>2</th>\n",
       "      <td>4</td>\n",
       "      <td>1456893769</td>\n",
       "      <td>1456893998</td>\n",
       "      <td>Finished</td>\n",
       "      <td>[[1,3,2,2,1,2,1,4],[2,4,1,2,1,2,2,1],[3,1,1,1,...</td>\n",
       "      <td>{\"atts\"=&gt;[[1,4,0],[2,2,1],[3,2,1],[4,2,1],[5,2...</td>\n",
       "      <td>4</td>\n",
       "      <td>NaN</td>\n",
       "      <td>NaN</td>\n",
       "      <td>NaN</td>\n",
       "      <td>...</td>\n",
       "      <td>3</td>\n",
       "      <td>1</td>\n",
       "      <td>NaN</td>\n",
       "      <td>NaN</td>\n",
       "      <td>1</td>\n",
       "      <td>NaN</td>\n",
       "      <td>4</td>\n",
       "      <td>NaN</td>\n",
       "      <td>1</td>\n",
       "      <td>NaN</td>\n",
       "    </tr>\n",
       "    <tr>\n",
       "      <th>3</th>\n",
       "      <td>9</td>\n",
       "      <td>1456895699</td>\n",
       "      <td>1456904874</td>\n",
       "      <td>Finished</td>\n",
       "      <td>[[1,2,2,1,1,1,1,3],[2,1,1,2,2,2,2,1],[3,3,1,1,...</td>\n",
       "      <td>{\"atts\"=&gt;[[1,4,0],[2,2,1],[3,2,1],[4,2,1],[5,2...</td>\n",
       "      <td>4</td>\n",
       "      <td>NaN</td>\n",
       "      <td>NaN</td>\n",
       "      <td>NaN</td>\n",
       "      <td>...</td>\n",
       "      <td>2</td>\n",
       "      <td>3</td>\n",
       "      <td>1.0</td>\n",
       "      <td>5.0</td>\n",
       "      <td>1</td>\n",
       "      <td>NaN</td>\n",
       "      <td>3</td>\n",
       "      <td>NaN</td>\n",
       "      <td>1</td>\n",
       "      <td>NaN</td>\n",
       "    </tr>\n",
       "    <tr>\n",
       "      <th>4</th>\n",
       "      <td>23</td>\n",
       "      <td>1456924935</td>\n",
       "      <td>1456925731</td>\n",
       "      <td>Finished</td>\n",
       "      <td>[[1,1,1,2,1,2,1,4],[2,4,2,1,2,1,2,1],[3,2,2,2,...</td>\n",
       "      <td>{\"atts\"=&gt;[[1,4,0],[2,2,1],[3,2,1],[4,2,1],[5,2...</td>\n",
       "      <td>4</td>\n",
       "      <td>NaN</td>\n",
       "      <td>NaN</td>\n",
       "      <td>NaN</td>\n",
       "      <td>...</td>\n",
       "      <td>2</td>\n",
       "      <td>1</td>\n",
       "      <td>NaN</td>\n",
       "      <td>NaN</td>\n",
       "      <td>11</td>\n",
       "      <td>retired</td>\n",
       "      <td>2</td>\n",
       "      <td>NaN</td>\n",
       "      <td>1</td>\n",
       "      <td>NaN</td>\n",
       "    </tr>\n",
       "  </tbody>\n",
       "</table>\n",
       "<p>5 rows × 128 columns</p>\n",
       "</div>"
      ],
      "text/plain": [
       "   sys_RespNum  sys_StartTime  sys_EndTime sys_LastQuestion  \\\n",
       "0            2     1456893467   1456893958         Finished   \n",
       "1            3     1456893643   1456893998         Finished   \n",
       "2            4     1456893769   1456893998         Finished   \n",
       "3            9     1456895699   1456904874         Finished   \n",
       "4           23     1456924935   1456925731         Finished   \n",
       "\n",
       "                                 sys_CBC_CBC1_design  \\\n",
       "0  [[1,1,1,2,1,2,2,1],[2,3,2,2,1,1,2,2],[3,2,1,2,...   \n",
       "1  [[1,4,2,1,2,1,1,1],[2,3,1,1,1,2,2,4],[3,1,2,2,...   \n",
       "2  [[1,3,2,2,1,2,1,4],[2,4,1,2,1,2,2,1],[3,1,1,1,...   \n",
       "3  [[1,2,2,1,1,1,1,3],[2,1,1,2,2,2,2,1],[3,3,1,1,...   \n",
       "4  [[1,1,1,2,1,2,1,4],[2,4,2,1,2,1,2,1],[3,2,2,2,...   \n",
       "\n",
       "                            sys_CBC_CBC1_design_info  S1  S1A  S1B  S1C  ...  \\\n",
       "0  {\"atts\"=>[[1,4,0],[2,2,1],[3,2,1],[4,2,1],[5,2...   4  NaN  NaN  NaN  ...   \n",
       "1  {\"atts\"=>[[1,4,0],[2,2,1],[3,2,1],[4,2,1],[5,2...   1  2.0  2.0  1.0  ...   \n",
       "2  {\"atts\"=>[[1,4,0],[2,2,1],[3,2,1],[4,2,1],[5,2...   4  NaN  NaN  NaN  ...   \n",
       "3  {\"atts\"=>[[1,4,0],[2,2,1],[3,2,1],[4,2,1],[5,2...   4  NaN  NaN  NaN  ...   \n",
       "4  {\"atts\"=>[[1,4,0],[2,2,1],[3,2,1],[4,2,1],[5,2...   4  NaN  NaN  NaN  ...   \n",
       "\n",
       "  D3Neighborhood  D4MaritalStatus  D4A  D4B  D5Occupation  \\\n",
       "0              2                2  NaN  NaN             8   \n",
       "1              2                2  NaN  NaN             1   \n",
       "2              3                1  NaN  NaN             1   \n",
       "3              2                3  1.0  5.0             1   \n",
       "4              2                1  NaN  NaN            11   \n",
       "\n",
       "   D5Occupation_11_other  D6Education  D6Education_6_other  D7Ethnicity  \\\n",
       "0                    NaN            3                  NaN            2   \n",
       "1                    NaN            5                  NaN            3   \n",
       "2                    NaN            4                  NaN            1   \n",
       "3                    NaN            3                  NaN            1   \n",
       "4                retired            2                  NaN            1   \n",
       "\n",
       "   D7Ethnicity_7_other  \n",
       "0                  NaN  \n",
       "1                  NaN  \n",
       "2                  NaN  \n",
       "3                  NaN  \n",
       "4                  NaN  \n",
       "\n",
       "[5 rows x 128 columns]"
      ]
     },
     "execution_count": 3,
     "metadata": {},
     "output_type": "execute_result"
    }
   ],
   "source": [
    "# read in data\n",
    "roomba = pd.read_csv('roomba_survey.csv')\n",
    "roomba.head()"
   ]
  },
  {
   "cell_type": "code",
   "execution_count": 5,
   "metadata": {},
   "outputs": [
    {
     "data": {
      "text/plain": [
       "S1\n",
       "4    229\n",
       "3     63\n",
       "1     40\n",
       "Name: count, dtype: int64"
      ]
     },
     "execution_count": 5,
     "metadata": {},
     "output_type": "execute_result"
    }
   ],
   "source": [
    "roomba.value_counts('S1')"
   ]
  },
  {
   "cell_type": "code",
   "execution_count": null,
   "metadata": {},
   "outputs": [
    {
     "data": {
      "text/plain": [
       "segment\n",
       "considering    229\n",
       "shopping        63\n",
       "own             40\n",
       "Name: count, dtype: int64"
      ]
     },
     "execution_count": 6,
     "metadata": {},
     "output_type": "execute_result"
    }
   ],
   "source": [
    "# recode outcome variable\n",
    "roomba['segment'] = roomba['S1'].map({1: 'own', 3: 'shopping', 4: 'considering'})\n",
    "roomba['segment'].value_counts()"
   ]
  },
  {
   "cell_type": "code",
   "execution_count": 16,
   "metadata": {
    "vscode": {
     "languageId": "ruby"
    }
   },
   "outputs": [
    {
     "name": "stdout",
     "output_type": "stream",
     "text": [
      "(265, 11) (265,)\n",
      "(67, 11) (67,)\n"
     ]
    },
    {
     "data": {
      "text/plain": [
       "segment\n",
       "considering    183\n",
       "shopping        50\n",
       "own             32\n",
       "Name: count, dtype: int64"
      ]
     },
     "execution_count": 16,
     "metadata": {},
     "output_type": "execute_result"
    }
   ],
   "source": [
    "# X should be all columns that begin with 'CleaningAttitudes'\n",
    "X = roomba.filter(like='CleaningAttitudes')\n",
    "y = roomba['segment']\n",
    "X_train, X_test, y_train, y_test = train_test_split(X, y, test_size=0.2, random_state=5600, stratify=y)\n",
    "print(X_train.shape, y_train.shape)\n",
    "print(X_test.shape, y_test.shape)\n",
    "y_train.value_counts()"
   ]
  },
  {
   "cell_type": "markdown",
   "metadata": {},
   "source": [
    "### Fit the decision tree"
   ]
  },
  {
   "cell_type": "code",
   "execution_count": 33,
   "metadata": {
    "vscode": {
     "languageId": "ruby"
    }
   },
   "outputs": [
    {
     "data": {
      "text/plain": [
       "0.5671641791044776"
      ]
     },
     "execution_count": 33,
     "metadata": {},
     "output_type": "execute_result"
    }
   ],
   "source": [
    "# fit the decision tree\n",
    "dt = DecisionTreeClassifier(random_state=5600)\n",
    "dt.fit(X_train, y_train)\n",
    "dt.score(X_test, y_test)"
   ]
  },
  {
   "cell_type": "code",
   "execution_count": 32,
   "metadata": {
    "vscode": {
     "languageId": "ruby"
    }
   },
   "outputs": [
    {
     "data": {
      "text/plain": [
       "<sklearn.metrics._plot.confusion_matrix.ConfusionMatrixDisplay at 0x1f139bb1d90>"
      ]
     },
     "execution_count": 32,
     "metadata": {},
     "output_type": "execute_result"
    },
    {
     "data": {
      "image/png": "[encoded data removed]",
      "text/plain": [
       "<Figure size 640x480 with 2 Axes>"
      ]
     },
     "metadata": {},
     "output_type": "display_data"
    }
   ],
   "source": [
    "# plot the confusion matrix with ConfusionMatrixDisplay\n",
    "ConfusionMatrixDisplay(confusion_matrix(y_test, dt.predict(X_test)), display_labels=dt.classes_).plot()\n"
   ]
  }
 ],
 "metadata": {
  "kernelspec": {
   "display_name": ".venv",
   "language": "python",
   "name": "python3"
  },
  "language_info": {
   "codemirror_mode": {
    "name": "ipython",
    "version": 3
   },
   "file_extension": ".py",
   "mimetype": "text/x-python",
   "name": "python",
   "nbconvert_exporter": "python",
   "pygments_lexer": "ipython3",
   "version": "3.11.9"
  }
 },
 "nbformat": 4,
 "nbformat_minor": 2
}
