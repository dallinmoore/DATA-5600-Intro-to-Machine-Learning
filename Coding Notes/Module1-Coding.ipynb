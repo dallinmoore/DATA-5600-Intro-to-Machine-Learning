{
 "cells": [
  {
   "cell_type": "markdown",
   "id": "cf726a84-57c4-434f-9b54-c5e8ebca8171",
   "metadata": {},
   "source": [
    "<center> <h1>Module 1 - Simple Linear Regression</h1> </center>\n",
    "<center> <h2>Class Coding Analysis</h2> </center>"
   ]
  },
  {
   "cell_type": "markdown",
   "id": "29742e85-1e25-43a3-a31f-9b1a5288acf6",
   "metadata": {},
   "source": [
    "## Data and Description\n",
    "\n",
    "**This is the same data set used in the Module 1 Course Notes. You can check all of the code you create here with the output from the course notes to verify you are getting the correct results.**\n",
    "\n",
    "Recent increases in gas prices make buyers more prone to purchase a car with better gas mileage, as measured by the **miles per gallon (MPG)**. Because of this, car manufacturers are increasingly trying to produce the car that gives the best MPG. Complicating this process are the many factors that go into determining what gas mileage a car will achieve on the road.\n",
    "\n",
    "One such factor is the **weight** of the car. While \n",
    "it is generally understood that heavier cars will experience fewer MPG, there is little understanding of how much an increase in weight will lead to a decrease MPG. By understanding this relationship, manufacturers will be able to perform a cost--benefit analysis that will assist them in their vehicle production.\n",
    "\n",
    "The MPG data set contains measurements of the **weight (column 1)** (in pounds) and **MPG (column 2)** of 289 cars. Download the MPGData.txt file from Canvas, and put it in the same folder as this R Markdown file. Now, read in the data set, take a look at the top few rows, and look at a summary of the data.  "
   ]
  },
  {
   "cell_type": "code",
   "execution_count": 1,
   "id": "ccd505d5-945c-4ffc-898b-89131bb04bb2",
   "metadata": {
    "tags": []
   },
   "outputs": [],
   "source": [
    "import pandas as pd\n",
    "import numpy as np\n",
    "from matplotlib import pyplot as plt\n",
    "import statsmodels.api as sm"
   ]
  },
  {
   "cell_type": "code",
   "execution_count": 2,
   "id": "92fa59b9-8a7b-486a-8ce3-25756943b80a",
   "metadata": {
    "tags": []
   },
   "outputs": [
    {
     "data": {
      "text/html": [
       "<div>\n",
       "<style scoped>\n",
       "    .dataframe tbody tr th:only-of-type {\n",
       "        vertical-align: middle;\n",
       "    }\n",
       "\n",
       "    .dataframe tbody tr th {\n",
       "        vertical-align: top;\n",
       "    }\n",
       "\n",
       "    .dataframe thead th {\n",
       "        text-align: right;\n",
       "    }\n",
       "</style>\n",
       "<table border=\"1\" class=\"dataframe\">\n",
       "  <thead>\n",
       "    <tr style=\"text-align: right;\">\n",
       "      <th></th>\n",
       "      <th>Weight</th>\n",
       "      <th>MPG</th>\n",
       "    </tr>\n",
       "  </thead>\n",
       "  <tbody>\n",
       "    <tr>\n",
       "      <th>0</th>\n",
       "      <td>3436</td>\n",
       "      <td>18.0</td>\n",
       "    </tr>\n",
       "    <tr>\n",
       "      <th>1</th>\n",
       "      <td>3433</td>\n",
       "      <td>16.0</td>\n",
       "    </tr>\n",
       "    <tr>\n",
       "      <th>2</th>\n",
       "      <td>3449</td>\n",
       "      <td>17.0</td>\n",
       "    </tr>\n",
       "    <tr>\n",
       "      <th>3</th>\n",
       "      <td>3086</td>\n",
       "      <td>14.0</td>\n",
       "    </tr>\n",
       "    <tr>\n",
       "      <th>4</th>\n",
       "      <td>2372</td>\n",
       "      <td>24.0</td>\n",
       "    </tr>\n",
       "  </tbody>\n",
       "</table>\n",
       "</div>"
      ],
      "text/plain": [
       "   Weight   MPG\n",
       "0    3436  18.0\n",
       "1    3433  16.0\n",
       "2    3449  17.0\n",
       "3    3086  14.0\n",
       "4    2372  24.0"
      ]
     },
     "execution_count": 2,
     "metadata": {},
     "output_type": "execute_result"
    }
   ],
   "source": [
    "cars = pd.read_table(\"MPGData.txt\", \n",
    "                     delimiter = ' ')\n",
    "cars.head()"
   ]
  },
  {
   "cell_type": "code",
   "execution_count": 3,
   "id": "601e5c06-5e70-4e37-952f-e9f11e4d7e33",
   "metadata": {
    "tags": []
   },
   "outputs": [
    {
     "data": {
      "text/html": [
       "<div>\n",
       "<style scoped>\n",
       "    .dataframe tbody tr th:only-of-type {\n",
       "        vertical-align: middle;\n",
       "    }\n",
       "\n",
       "    .dataframe tbody tr th {\n",
       "        vertical-align: top;\n",
       "    }\n",
       "\n",
       "    .dataframe thead th {\n",
       "        text-align: right;\n",
       "    }\n",
       "</style>\n",
       "<table border=\"1\" class=\"dataframe\">\n",
       "  <thead>\n",
       "    <tr style=\"text-align: right;\">\n",
       "      <th></th>\n",
       "      <th>Weight</th>\n",
       "      <th>MPG</th>\n",
       "    </tr>\n",
       "  </thead>\n",
       "  <tbody>\n",
       "    <tr>\n",
       "      <th>count</th>\n",
       "      <td>289.000000</td>\n",
       "      <td>289.000000</td>\n",
       "    </tr>\n",
       "    <tr>\n",
       "      <th>mean</th>\n",
       "      <td>2535.038062</td>\n",
       "      <td>26.659170</td>\n",
       "    </tr>\n",
       "    <tr>\n",
       "      <th>std</th>\n",
       "      <td>484.110527</td>\n",
       "      <td>6.699974</td>\n",
       "    </tr>\n",
       "    <tr>\n",
       "      <th>min</th>\n",
       "      <td>1613.000000</td>\n",
       "      <td>13.000000</td>\n",
       "    </tr>\n",
       "    <tr>\n",
       "      <th>25%</th>\n",
       "      <td>2130.000000</td>\n",
       "      <td>21.000000</td>\n",
       "    </tr>\n",
       "    <tr>\n",
       "      <th>50%</th>\n",
       "      <td>2489.000000</td>\n",
       "      <td>26.000000</td>\n",
       "    </tr>\n",
       "    <tr>\n",
       "      <th>75%</th>\n",
       "      <td>2930.000000</td>\n",
       "      <td>31.500000</td>\n",
       "    </tr>\n",
       "    <tr>\n",
       "      <th>max</th>\n",
       "      <td>3465.000000</td>\n",
       "      <td>46.600000</td>\n",
       "    </tr>\n",
       "  </tbody>\n",
       "</table>\n",
       "</div>"
      ],
      "text/plain": [
       "            Weight         MPG\n",
       "count   289.000000  289.000000\n",
       "mean   2535.038062   26.659170\n",
       "std     484.110527    6.699974\n",
       "min    1613.000000   13.000000\n",
       "25%    2130.000000   21.000000\n",
       "50%    2489.000000   26.000000\n",
       "75%    2930.000000   31.500000\n",
       "max    3465.000000   46.600000"
      ]
     },
     "execution_count": 3,
     "metadata": {},
     "output_type": "execute_result"
    }
   ],
   "source": [
    "cars.describe()"
   ]
  },
  {
   "cell_type": "markdown",
   "id": "75ad0e7f-f2b1-4dbc-8185-6f7e5475e222",
   "metadata": {},
   "source": [
    "## Scatterplot"
   ]
  },
  {
   "cell_type": "markdown",
   "id": "44dbe613-2e2f-4567-aa16-4944dae7ea9d",
   "metadata": {},
   "source": [
    "#### Create a scatterplot of the data with variables on the appropriate axes."
   ]
  },
  {
   "cell_type": "code",
   "execution_count": 11,
   "id": "0b60d7c5-9de5-4dcc-9d75-1c15e3b921ec",
   "metadata": {},
   "outputs": [
    {
     "data": {
      "image/png": "[encoded data removed]",
      "text/plain": [
       "<Figure size 400x400 with 1 Axes>"
      ]
     },
     "metadata": {},
     "output_type": "display_data"
    }
   ],
   "source": [
    "fig = plt.figure(figsize = (4, 4))\n",
    "plt.scatter(x = cars['Weight'], \n",
    "            y = cars['MPG'], \n",
    "            s = 2)\n",
    "plt.ylabel(\"MPG\")\n",
    "plt.xlabel(\"Weight (lbs)\")\n",
    "plt.show()"
   ]
  },
  {
   "cell_type": "markdown",
   "id": "06860432-5522-4af9-aadd-4fd4ef12588d",
   "metadata": {},
   "source": [
    "## Correlation Coefficient "
   ]
  },
  {
   "cell_type": "markdown",
   "id": "bf25d0cd-6ebb-4133-811b-a213df1d205a",
   "metadata": {},
   "source": [
    "#### Report the correlation coefficient for the two variables."
   ]
  },
  {
   "cell_type": "code",
   "execution_count": 13,
   "id": "ab713239-ccc4-488b-8635-42368484af3f",
   "metadata": {
    "tags": []
   },
   "outputs": [
    {
     "data": {
      "text/plain": [
       "-0.7105168356679543"
      ]
     },
     "execution_count": 13,
     "metadata": {},
     "output_type": "execute_result"
    }
   ],
   "source": [
    "corr_matrix = cars.corr()\n",
    "# print(corr_matrix)\n",
    "corr_matrix.loc['MPG', 'Weight']"
   ]
  },
  {
   "cell_type": "markdown",
   "id": "80b719d4-1c46-4913-ade9-c491cd7d610c",
   "metadata": {},
   "source": [
    "## Linear Regression"
   ]
  },
  {
   "cell_type": "markdown",
   "id": "24b9a57f-9cc5-4c42-aeba-c1c0c7a22a3f",
   "metadata": {},
   "source": [
    "#### Apply linear regression to the data, and save the residuals and fitted values to the `cars` data frame."
   ]
  },
  {
   "cell_type": "code",
   "execution_count": 15,
   "id": "8eaed420-b031-4e01-8f23-3834357840fa",
   "metadata": {
    "tags": []
   },
   "outputs": [],
   "source": [
    "# Prepare data\n",
    "y = cars['MPG']\n",
    "X = sm.add_constant(cars['Weight'])\n",
    "# print(X)"
   ]
  },
  {
   "cell_type": "code",
   "execution_count": 16,
   "id": "af4391ec-e277-4647-bf98-3d38fb6fa091",
   "metadata": {
    "tags": []
   },
   "outputs": [
    {
     "name": "stdout",
     "output_type": "stream",
     "text": [
      "                            OLS Regression Results                            \n",
      "==============================================================================\n",
      "Dep. Variable:                    MPG   R-squared:                       0.505\n",
      "Model:                            OLS   Adj. R-squared:                  0.503\n",
      "Method:                 Least Squares   F-statistic:                     292.6\n",
      "Date:                Fri, 05 Jan 2024   Prob (F-statistic):           1.04e-45\n",
      "Time:                        10:33:14   Log-Likelihood:                -857.72\n",
      "No. Observations:                 289   AIC:                             1719.\n",
      "Df Residuals:                     287   BIC:                             1727.\n",
      "Df Model:                           1                                         \n",
      "Covariance Type:            nonrobust                                         \n",
      "==============================================================================\n",
      "                 coef    std err          t      P>|t|      [0.025      0.975]\n",
      "------------------------------------------------------------------------------\n",
      "const         51.5872      1.484     34.773      0.000      48.667      54.507\n",
      "Weight        -0.0098      0.001    -17.106      0.000      -0.011      -0.009\n",
      "==============================================================================\n",
      "Omnibus:                       26.176   Durbin-Watson:                   0.699\n",
      "Prob(Omnibus):                  0.000   Jarque-Bera (JB):               31.989\n",
      "Skew:                           0.693   Prob(JB):                     1.13e-07\n",
      "Kurtosis:                       3.857   Cond. No.                     1.38e+04\n",
      "==============================================================================\n",
      "\n",
      "Notes:\n",
      "[1] Standard Errors assume that the covariance matrix of the errors is correctly specified.\n",
      "[2] The condition number is large, 1.38e+04. This might indicate that there are\n",
      "strong multicollinearity or other numerical problems.\n"
     ]
    }
   ],
   "source": [
    "# Fit simple linear regression model using ordinary least squares\n",
    "mod = sm.OLS(y, X)\n",
    "res = mod.fit()\n",
    "print(res.summary())"
   ]
  },
  {
   "cell_type": "code",
   "execution_count": 18,
   "id": "6290f59e-00fc-466c-8c8d-e069a0a86853",
   "metadata": {
    "tags": []
   },
   "outputs": [],
   "source": [
    "# dir(res)"
   ]
  },
  {
   "cell_type": "code",
   "execution_count": 19,
   "id": "638a5996-07f8-412e-8071-5120d4476237",
   "metadata": {
    "tags": []
   },
   "outputs": [
    {
     "data": {
      "text/html": [
       "<div>\n",
       "<style scoped>\n",
       "    .dataframe tbody tr th:only-of-type {\n",
       "        vertical-align: middle;\n",
       "    }\n",
       "\n",
       "    .dataframe tbody tr th {\n",
       "        vertical-align: top;\n",
       "    }\n",
       "\n",
       "    .dataframe thead th {\n",
       "        text-align: right;\n",
       "    }\n",
       "</style>\n",
       "<table border=\"1\" class=\"dataframe\">\n",
       "  <thead>\n",
       "    <tr style=\"text-align: right;\">\n",
       "      <th></th>\n",
       "      <th>Weight</th>\n",
       "      <th>MPG</th>\n",
       "      <th>residuals</th>\n",
       "      <th>fittedvalues</th>\n",
       "    </tr>\n",
       "  </thead>\n",
       "  <tbody>\n",
       "    <tr>\n",
       "      <th>0</th>\n",
       "      <td>3436</td>\n",
       "      <td>18.0</td>\n",
       "      <td>0.200334</td>\n",
       "      <td>17.799666</td>\n",
       "    </tr>\n",
       "    <tr>\n",
       "      <th>1</th>\n",
       "      <td>3433</td>\n",
       "      <td>16.0</td>\n",
       "      <td>-1.829166</td>\n",
       "      <td>17.829166</td>\n",
       "    </tr>\n",
       "    <tr>\n",
       "      <th>2</th>\n",
       "      <td>3449</td>\n",
       "      <td>17.0</td>\n",
       "      <td>-0.671832</td>\n",
       "      <td>17.671832</td>\n",
       "    </tr>\n",
       "    <tr>\n",
       "      <th>3</th>\n",
       "      <td>3086</td>\n",
       "      <td>14.0</td>\n",
       "      <td>-7.241350</td>\n",
       "      <td>21.241350</td>\n",
       "    </tr>\n",
       "    <tr>\n",
       "      <th>4</th>\n",
       "      <td>2372</td>\n",
       "      <td>24.0</td>\n",
       "      <td>-4.262385</td>\n",
       "      <td>28.262385</td>\n",
       "    </tr>\n",
       "  </tbody>\n",
       "</table>\n",
       "</div>"
      ],
      "text/plain": [
       "   Weight   MPG  residuals  fittedvalues\n",
       "0    3436  18.0   0.200334     17.799666\n",
       "1    3433  16.0  -1.829166     17.829166\n",
       "2    3449  17.0  -0.671832     17.671832\n",
       "3    3086  14.0  -7.241350     21.241350\n",
       "4    2372  24.0  -4.262385     28.262385"
      ]
     },
     "execution_count": 19,
     "metadata": {},
     "output_type": "execute_result"
    }
   ],
   "source": [
    "cars['residuals'] = res.resid\n",
    "cars['fittedvalues'] = res.fittedvalues\n",
    "cars.head()"
   ]
  },
  {
   "cell_type": "markdown",
   "id": "8261738c-1445-4898-adaf-8cba5c9815fb",
   "metadata": {},
   "source": [
    "#### Add the OLS regression line to the scatterplot."
   ]
  },
  {
   "cell_type": "code",
   "execution_count": 23,
   "id": "c9d67536",
   "metadata": {},
   "outputs": [
    {
     "name": "stdout",
     "output_type": "stream",
     "text": [
      "const     51.587169\n",
      "Weight    -0.009833\n",
      "dtype: float64\n"
     ]
    }
   ],
   "source": [
    "x = cars['Weight']\n",
    "y = cars['MPG']\n",
    "# print(res.params[0])\n",
    "# print(res.params[1])"
   ]
  },
  {
   "cell_type": "code",
   "execution_count": 25,
   "id": "c384e0d4-9ff3-4026-9b71-66a76a2b53af",
   "metadata": {
    "tags": []
   },
   "outputs": [
    {
     "data": {
      "image/png": "[encoded data removed]",
      "text/plain": [
       "<Figure size 400x400 with 1 Axes>"
      ]
     },
     "metadata": {},
     "output_type": "display_data"
    }
   ],
   "source": [
    "fig = plt.figure(figsize = (4, 4))\n",
    "plt.scatter(x, \n",
    "            y, \n",
    "            s = 2)\n",
    "plt.plot(x, \n",
    "         res.params[0] + res.params[1] * x, \n",
    "         'r') \n",
    "plt.ylabel(\"MPG\")\n",
    "plt.xlabel(\"Weight (lbs)\")\n",
    "plt.show()"
   ]
  },
  {
   "cell_type": "markdown",
   "id": "381d869b-06ab-433d-8798-0f82dfdc09fd",
   "metadata": {
    "tags": []
   },
   "source": [
    "#### Calculate the residuals in the data set *\"by hand\"* (using Python, not just pulling the residuals from the model output) - do your calculations match the values in the residuals column of the data set?"
   ]
  },
  {
   "cell_type": "code",
   "execution_count": 26,
   "id": "2fa833cd-32b2-432d-8112-8f4c8794e7cc",
   "metadata": {
    "tags": []
   },
   "outputs": [
    {
     "data": {
      "text/plain": [
       "0    0.200334\n",
       "1   -1.829166\n",
       "2   -0.671832\n",
       "3   -7.241350\n",
       "4   -4.262385\n",
       "dtype: float64"
      ]
     },
     "execution_count": 26,
     "metadata": {},
     "output_type": "execute_result"
    }
   ],
   "source": [
    "resids = cars['MPG'] - cars['fittedvalues']\n",
    "resids.head()"
   ]
  },
  {
   "cell_type": "markdown",
   "id": "0ab09a8c-a86f-4d2e-80a9-2a06f73be0b5",
   "metadata": {},
   "source": [
    "#### What is the average MPG for a car weighing 2500 pounds?"
   ]
  },
  {
   "cell_type": "code",
   "execution_count": 27,
   "id": "c36d580d-5f74-423b-b608-e259f85e5500",
   "metadata": {
    "tags": []
   },
   "outputs": [
    {
     "name": "stdout",
     "output_type": "stream",
     "text": [
      "27.00371222415415\n"
     ]
    }
   ],
   "source": [
    "# Option 1\n",
    "print(res.params[0] + res.params[1] * 2500)"
   ]
  },
  {
   "cell_type": "code",
   "execution_count": 28,
   "id": "94e8b969",
   "metadata": {},
   "outputs": [
    {
     "name": "stdout",
     "output_type": "stream",
     "text": [
      "[27.00371222]\n"
     ]
    }
   ],
   "source": [
    "# Option 2\n",
    "print(res.predict([1, 2500])) # option 2"
   ]
  },
  {
   "cell_type": "markdown",
   "id": "cb72b5ed-d94a-4f2c-a75f-3e112d36ce6f",
   "metadata": {},
   "source": [
    "#### Calculate the MSE, or the average squared variability of the residuals around the line."
   ]
  },
  {
   "cell_type": "code",
   "execution_count": 30,
   "id": "5e460bf4-a109-4386-a35e-7ca1e3371201",
   "metadata": {
    "tags": []
   },
   "outputs": [
    {
     "data": {
      "text/plain": [
       "22.30526775978537"
      ]
     },
     "execution_count": 30,
     "metadata": {},
     "output_type": "execute_result"
    }
   ],
   "source": [
    "sum(res.resid ** 2) / (res.df_resid)"
   ]
  },
  {
   "cell_type": "code",
   "execution_count": 29,
   "id": "fee125d0",
   "metadata": {},
   "outputs": [
    {
     "data": {
      "text/plain": [
       "287.0"
      ]
     },
     "execution_count": 29,
     "metadata": {},
     "output_type": "execute_result"
    }
   ],
   "source": [
    "# res.df_resid"
   ]
  },
  {
   "cell_type": "code",
   "execution_count": 31,
   "id": "5415aa02",
   "metadata": {},
   "outputs": [
    {
     "data": {
      "text/plain": [
       "22.150906045184783"
      ]
     },
     "execution_count": 31,
     "metadata": {},
     "output_type": "execute_result"
    }
   ],
   "source": [
    "# DO NOT DO THIS! YOU WILL GET THE WRONG ANSWER\n",
    "# from sklearn.metrics import mean_squared_error\n",
    "# mean_squared_error(cars['MPG'], res.predict()) "
   ]
  },
  {
   "cell_type": "markdown",
   "id": "fc61da95-6196-4747-bbbf-b09885838d76",
   "metadata": {},
   "source": [
    "## Summary and Conclusions\n",
    "\n",
    "*Always* start by plotting your data (exploratory data analysis: view data, create scatterplot, summarize data, etc.) before jumping into an analysis or fitting a model. We saw MPG and Weight looked to be linearly associated, so we chose to look at the correlation coefficient and then fit a simple linear regression model to the data. Make sure you know how to interpret the model coefficients!"
   ]
  }
 ],
 "metadata": {
  "kernelspec": {
   "display_name": "Python 3 (ipykernel)",
   "language": "python",
   "name": "python3"
  },
  "language_info": {
   "codemirror_mode": {
    "name": "ipython",
    "version": 3
   },
   "file_extension": ".py",
   "mimetype": "text/x-python",
   "name": "python",
   "nbconvert_exporter": "python",
   "pygments_lexer": "ipython3",
   "version": "3.11.4"
  }
 },
 "nbformat": 4,
 "nbformat_minor": 5
}
