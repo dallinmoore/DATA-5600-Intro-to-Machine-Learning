{
 "cells": [
  {
   "cell_type": "markdown",
   "metadata": {},
   "source": [
    "<center> <h1>Homework 3 | DATA 5600</h1> </center>\n",
    "<center> <h2>Simple Linear Regression Model Inference</h2> </center>\n",
    "<center> <h3> Dallin Moore <h3> <center>"
   ]
  },
  {
   "cell_type": "markdown",
   "metadata": {},
   "source": [
    "## Data and Description\n",
    "\n",
    "### This data set is the same data set used in Homework 2. In this assignment, we will interpret the model you built in Homework 2.\n",
    "\n",
    "One key component of determining appropriate speed limits is the amount of distance that is required to stop at a given speed. For example, in residential neighborhoods, when pedestrians are commonly in the roadways, it is important to be able to stop in a very short distance to ensure pedestrian safety. The speed of vehicles may be useful for determining the distance required to stop at that given speed, which can aid public officials in determining speed limits.\n",
    "\n",
    "The Stopping Distance data set compares the **distance (column 2)** (in feet) required for a car to stop on a certain rural road against the **speed (column 1)** (MPH) of the car. Download the StoppingDistance.txt file from Canvas, and put it in the same folder as this Jupyter file."
   ]
  },
  {
   "cell_type": "markdown",
   "metadata": {},
   "source": [
    "#### 0. Replace the text \"\\< PUT YOUR NAME HERE \\>\" with your full name. Load necessary libraries below."
   ]
  },
  {
   "cell_type": "code",
   "execution_count": 1,
   "metadata": {},
   "outputs": [],
   "source": [
    "import pandas as pd\n",
    "import numpy as np\n",
    "import scipy.stats as stats\n",
    "import seaborn as sns\n",
    "from matplotlib import pyplot as plt\n",
    "import statsmodels.api as sm"
   ]
  },
  {
   "cell_type": "markdown",
   "metadata": {},
   "source": [
    "#### 1. Read in the data set, and call the dataframe \"stop\". Print the first few rows of the data. Print a summary of the data and make sure the data makes sense."
   ]
  },
  {
   "cell_type": "code",
   "execution_count": 2,
   "metadata": {},
   "outputs": [
    {
     "data": {
      "text/html": [
       "<div>\n",
       "<style scoped>\n",
       "    .dataframe tbody tr th:only-of-type {\n",
       "        vertical-align: middle;\n",
       "    }\n",
       "\n",
       "    .dataframe tbody tr th {\n",
       "        vertical-align: top;\n",
       "    }\n",
       "\n",
       "    .dataframe thead th {\n",
       "        text-align: right;\n",
       "    }\n",
       "</style>\n",
       "<table border=\"1\" class=\"dataframe\">\n",
       "  <thead>\n",
       "    <tr style=\"text-align: right;\">\n",
       "      <th></th>\n",
       "      <th>Speed</th>\n",
       "      <th>Distance</th>\n",
       "    </tr>\n",
       "  </thead>\n",
       "  <tbody>\n",
       "    <tr>\n",
       "      <th>0</th>\n",
       "      <td>4</td>\n",
       "      <td>4</td>\n",
       "    </tr>\n",
       "    <tr>\n",
       "      <th>1</th>\n",
       "      <td>5</td>\n",
       "      <td>2</td>\n",
       "    </tr>\n",
       "    <tr>\n",
       "      <th>2</th>\n",
       "      <td>5</td>\n",
       "      <td>4</td>\n",
       "    </tr>\n",
       "    <tr>\n",
       "      <th>3</th>\n",
       "      <td>5</td>\n",
       "      <td>8</td>\n",
       "    </tr>\n",
       "    <tr>\n",
       "      <th>4</th>\n",
       "      <td>5</td>\n",
       "      <td>8</td>\n",
       "    </tr>\n",
       "  </tbody>\n",
       "</table>\n",
       "</div>"
      ],
      "text/plain": [
       "   Speed  Distance\n",
       "0      4         4\n",
       "1      5         2\n",
       "2      5         4\n",
       "3      5         8\n",
       "4      5         8"
      ]
     },
     "execution_count": 2,
     "metadata": {},
     "output_type": "execute_result"
    }
   ],
   "source": [
    "stop = pd.read_csv(\"StoppingDistance.txt\", sep=\" \")\n",
    "stop.head()"
   ]
  },
  {
   "cell_type": "markdown",
   "metadata": {},
   "source": [
    "#### 2. What transformation(s) did you apply to X, Y, or both in Homework 2? If you applied a transformation to Y, explain how you would back-transform model predictions to get back to the original scale of Y.\n",
    "##### (If you would like to change your model for some reason, you may do so, just make a note of the change here.)"
   ]
  },
  {
   "cell_type": "markdown",
   "metadata": {},
   "source": [
    "I applied square-root transformation to the Distance column (Y). To get Y by itself again, the right side as sqaured as seen in the formula below.\n",
    "\n",
    "\n",
    "The formula:\n",
    "\n",
    "$\n",
    "\\hat{\\text{Distance}}_i = (\\text{0.9324} + ( \\text{0.2525} \\cdot \\text{Speed}_i ))^2 + \\epsilon_i\n",
    "$\n"
   ]
  },
  {
   "cell_type": "markdown",
   "metadata": {},
   "source": [
    "#### 3. Copy and paste the code you used in Homework 2 (Question 14) to fit your final, transformed model. Print a summary of the results."
   ]
  },
  {
   "cell_type": "code",
   "execution_count": 4,
   "metadata": {},
   "outputs": [
    {
     "data": {
      "text/html": [
       "<table class=\"simpletable\">\n",
       "<caption>OLS Regression Results</caption>\n",
       "<tr>\n",
       "  <th>Dep. Variable:</th>     <td>Distance_trans</td>  <th>  R-squared:         </th> <td>   0.925</td>\n",
       "</tr>\n",
       "<tr>\n",
       "  <th>Model:</th>                   <td>OLS</td>       <th>  Adj. R-squared:    </th> <td>   0.924</td>\n",
       "</tr>\n",
       "<tr>\n",
       "  <th>Method:</th>             <td>Least Squares</td>  <th>  F-statistic:       </th> <td>   741.1</td>\n",
       "</tr>\n",
       "<tr>\n",
       "  <th>Date:</th>             <td>Tue, 24 Sep 2024</td> <th>  Prob (F-statistic):</th> <td>1.83e-35</td>\n",
       "</tr>\n",
       "<tr>\n",
       "  <th>Time:</th>                 <td>12:05:18</td>     <th>  Log-Likelihood:    </th> <td> -66.669</td>\n",
       "</tr>\n",
       "<tr>\n",
       "  <th>No. Observations:</th>      <td>    62</td>      <th>  AIC:               </th> <td>   137.3</td>\n",
       "</tr>\n",
       "<tr>\n",
       "  <th>Df Residuals:</th>          <td>    60</td>      <th>  BIC:               </th> <td>   141.6</td>\n",
       "</tr>\n",
       "<tr>\n",
       "  <th>Df Model:</th>              <td>     1</td>      <th>                     </th>     <td> </td>   \n",
       "</tr>\n",
       "<tr>\n",
       "  <th>Covariance Type:</th>      <td>nonrobust</td>    <th>                     </th>     <td> </td>   \n",
       "</tr>\n",
       "</table>\n",
       "<table class=\"simpletable\">\n",
       "<tr>\n",
       "    <td></td>       <th>coef</th>     <th>std err</th>      <th>t</th>      <th>P>|t|</th>  <th>[0.025</th>    <th>0.975]</th>  \n",
       "</tr>\n",
       "<tr>\n",
       "  <th>const</th> <td>    0.9324</td> <td>    0.198</td> <td>    4.711</td> <td> 0.000</td> <td>    0.537</td> <td>    1.328</td>\n",
       "</tr>\n",
       "<tr>\n",
       "  <th>Speed</th> <td>    0.2525</td> <td>    0.009</td> <td>   27.223</td> <td> 0.000</td> <td>    0.234</td> <td>    0.271</td>\n",
       "</tr>\n",
       "</table>\n",
       "<table class=\"simpletable\">\n",
       "<tr>\n",
       "  <th>Omnibus:</th>       <td> 1.777</td> <th>  Durbin-Watson:     </th> <td>   2.161</td>\n",
       "</tr>\n",
       "<tr>\n",
       "  <th>Prob(Omnibus):</th> <td> 0.411</td> <th>  Jarque-Bera (JB):  </th> <td>   1.239</td>\n",
       "</tr>\n",
       "<tr>\n",
       "  <th>Skew:</th>          <td> 0.029</td> <th>  Prob(JB):          </th> <td>   0.538</td>\n",
       "</tr>\n",
       "<tr>\n",
       "  <th>Kurtosis:</th>      <td> 2.310</td> <th>  Cond. No.          </th> <td>    46.2</td>\n",
       "</tr>\n",
       "</table><br/><br/>Notes:<br/>[1] Standard Errors assume that the covariance matrix of the errors is correctly specified."
      ],
      "text/latex": [
       "\\begin{center}\n",
       "\\begin{tabular}{lclc}\n",
       "\\toprule\n",
       "\\textbf{Dep. Variable:}    & Distance\\_trans  & \\textbf{  R-squared:         } &     0.925   \\\\\n",
       "\\textbf{Model:}            &       OLS        & \\textbf{  Adj. R-squared:    } &     0.924   \\\\\n",
       "\\textbf{Method:}           &  Least Squares   & \\textbf{  F-statistic:       } &     741.1   \\\\\n",
       "\\textbf{Date:}             & Tue, 24 Sep 2024 & \\textbf{  Prob (F-statistic):} &  1.83e-35   \\\\\n",
       "\\textbf{Time:}             &     12:05:18     & \\textbf{  Log-Likelihood:    } &   -66.669   \\\\\n",
       "\\textbf{No. Observations:} &          62      & \\textbf{  AIC:               } &     137.3   \\\\\n",
       "\\textbf{Df Residuals:}     &          60      & \\textbf{  BIC:               } &     141.6   \\\\\n",
       "\\textbf{Df Model:}         &           1      & \\textbf{                     } &             \\\\\n",
       "\\textbf{Covariance Type:}  &    nonrobust     & \\textbf{                     } &             \\\\\n",
       "\\bottomrule\n",
       "\\end{tabular}\n",
       "\\begin{tabular}{lcccccc}\n",
       "               & \\textbf{coef} & \\textbf{std err} & \\textbf{t} & \\textbf{P$> |$t$|$} & \\textbf{[0.025} & \\textbf{0.975]}  \\\\\n",
       "\\midrule\n",
       "\\textbf{const} &       0.9324  &        0.198     &     4.711  &         0.000        &        0.537    &        1.328     \\\\\n",
       "\\textbf{Speed} &       0.2525  &        0.009     &    27.223  &         0.000        &        0.234    &        0.271     \\\\\n",
       "\\bottomrule\n",
       "\\end{tabular}\n",
       "\\begin{tabular}{lclc}\n",
       "\\textbf{Omnibus:}       &  1.777 & \\textbf{  Durbin-Watson:     } &    2.161  \\\\\n",
       "\\textbf{Prob(Omnibus):} &  0.411 & \\textbf{  Jarque-Bera (JB):  } &    1.239  \\\\\n",
       "\\textbf{Skew:}          &  0.029 & \\textbf{  Prob(JB):          } &    0.538  \\\\\n",
       "\\textbf{Kurtosis:}      &  2.310 & \\textbf{  Cond. No.          } &     46.2  \\\\\n",
       "\\bottomrule\n",
       "\\end{tabular}\n",
       "%\\caption{OLS Regression Results}\n",
       "\\end{center}\n",
       "\n",
       "Notes: \\newline\n",
       " [1] Standard Errors assume that the covariance matrix of the errors is correctly specified."
      ],
      "text/plain": [
       "<class 'statsmodels.iolib.summary.Summary'>\n",
       "\"\"\"\n",
       "                            OLS Regression Results                            \n",
       "==============================================================================\n",
       "Dep. Variable:         Distance_trans   R-squared:                       0.925\n",
       "Model:                            OLS   Adj. R-squared:                  0.924\n",
       "Method:                 Least Squares   F-statistic:                     741.1\n",
       "Date:                Tue, 24 Sep 2024   Prob (F-statistic):           1.83e-35\n",
       "Time:                        12:05:18   Log-Likelihood:                -66.669\n",
       "No. Observations:                  62   AIC:                             137.3\n",
       "Df Residuals:                      60   BIC:                             141.6\n",
       "Df Model:                           1                                         \n",
       "Covariance Type:            nonrobust                                         \n",
       "==============================================================================\n",
       "                 coef    std err          t      P>|t|      [0.025      0.975]\n",
       "------------------------------------------------------------------------------\n",
       "const          0.9324      0.198      4.711      0.000       0.537       1.328\n",
       "Speed          0.2525      0.009     27.223      0.000       0.234       0.271\n",
       "==============================================================================\n",
       "Omnibus:                        1.777   Durbin-Watson:                   2.161\n",
       "Prob(Omnibus):                  0.411   Jarque-Bera (JB):                1.239\n",
       "Skew:                           0.029   Prob(JB):                        0.538\n",
       "Kurtosis:                       2.310   Cond. No.                         46.2\n",
       "==============================================================================\n",
       "\n",
       "Notes:\n",
       "[1] Standard Errors assume that the covariance matrix of the errors is correctly specified.\n",
       "\"\"\""
      ]
     },
     "execution_count": 4,
     "metadata": {},
     "output_type": "execute_result"
    }
   ],
   "source": [
    "# Apply square-root transformation to the Distance column\n",
    "stop['Distance_trans'] = np.sqrt(stop['Distance'])\n",
    "y = stop['Distance_trans']\n",
    "X = sm.add_constant(stop['Speed'])\n",
    "\n",
    "# Fit the linear regression model\n",
    "mod = sm.OLS(y, X)\n",
    "res_trans = mod.fit()\n",
    "\n",
    "res_trans.summary()"
   ]
  },
  {
   "cell_type": "markdown",
   "metadata": {},
   "source": [
    "#### 4. Make sure the residuals and fitted values are saved to the `stop` dataframe. Also, save the back-transformed fitted values to the `stop` dataframe (following the process you outlined in Question 2 of this assignment). These values should be fitted values on the original scale of the response variable. Print out the first few rows of the `stop` dataframe."
   ]
  },
  {
   "cell_type": "code",
   "execution_count": 24,
   "metadata": {},
   "outputs": [
    {
     "data": {
      "text/html": [
       "<div>\n",
       "<style scoped>\n",
       "    .dataframe tbody tr th:only-of-type {\n",
       "        vertical-align: middle;\n",
       "    }\n",
       "\n",
       "    .dataframe tbody tr th {\n",
       "        vertical-align: top;\n",
       "    }\n",
       "\n",
       "    .dataframe thead th {\n",
       "        text-align: right;\n",
       "    }\n",
       "</style>\n",
       "<table border=\"1\" class=\"dataframe\">\n",
       "  <thead>\n",
       "    <tr style=\"text-align: right;\">\n",
       "      <th></th>\n",
       "      <th>Speed</th>\n",
       "      <th>Distance</th>\n",
       "      <th>Distance_trans</th>\n",
       "      <th>residuals_trans</th>\n",
       "      <th>fittedvalues_trans</th>\n",
       "      <th>fittedvalues_back</th>\n",
       "      <th>residuals_back</th>\n",
       "    </tr>\n",
       "  </thead>\n",
       "  <tbody>\n",
       "    <tr>\n",
       "      <th>0</th>\n",
       "      <td>4</td>\n",
       "      <td>4</td>\n",
       "      <td>2.000000</td>\n",
       "      <td>0.057740</td>\n",
       "      <td>1.942260</td>\n",
       "      <td>3.772373</td>\n",
       "      <td>0.227627</td>\n",
       "    </tr>\n",
       "    <tr>\n",
       "      <th>1</th>\n",
       "      <td>5</td>\n",
       "      <td>2</td>\n",
       "      <td>1.414214</td>\n",
       "      <td>-0.780512</td>\n",
       "      <td>2.194726</td>\n",
       "      <td>4.816821</td>\n",
       "      <td>-2.816821</td>\n",
       "    </tr>\n",
       "    <tr>\n",
       "      <th>2</th>\n",
       "      <td>5</td>\n",
       "      <td>4</td>\n",
       "      <td>2.000000</td>\n",
       "      <td>-0.194726</td>\n",
       "      <td>2.194726</td>\n",
       "      <td>4.816821</td>\n",
       "      <td>-0.816821</td>\n",
       "    </tr>\n",
       "    <tr>\n",
       "      <th>3</th>\n",
       "      <td>5</td>\n",
       "      <td>8</td>\n",
       "      <td>2.828427</td>\n",
       "      <td>0.633701</td>\n",
       "      <td>2.194726</td>\n",
       "      <td>4.816821</td>\n",
       "      <td>3.183179</td>\n",
       "    </tr>\n",
       "    <tr>\n",
       "      <th>4</th>\n",
       "      <td>5</td>\n",
       "      <td>8</td>\n",
       "      <td>2.828427</td>\n",
       "      <td>0.633701</td>\n",
       "      <td>2.194726</td>\n",
       "      <td>4.816821</td>\n",
       "      <td>3.183179</td>\n",
       "    </tr>\n",
       "  </tbody>\n",
       "</table>\n",
       "</div>"
      ],
      "text/plain": [
       "   Speed  Distance  Distance_trans  residuals_trans  fittedvalues_trans  \\\n",
       "0      4         4        2.000000         0.057740            1.942260   \n",
       "1      5         2        1.414214        -0.780512            2.194726   \n",
       "2      5         4        2.000000        -0.194726            2.194726   \n",
       "3      5         8        2.828427         0.633701            2.194726   \n",
       "4      5         8        2.828427         0.633701            2.194726   \n",
       "\n",
       "   fittedvalues_back  residuals_back  \n",
       "0           3.772373        0.227627  \n",
       "1           4.816821       -2.816821  \n",
       "2           4.816821       -0.816821  \n",
       "3           4.816821        3.183179  \n",
       "4           4.816821        3.183179  "
      ]
     },
     "execution_count": 24,
     "metadata": {},
     "output_type": "execute_result"
    }
   ],
   "source": [
    "# Add transformed residuals and fitted values to the dataframe\n",
    "stop['residuals_trans'] = res_trans.resid\n",
    "stop['fittedvalues_trans'] = res_trans.fittedvalues\n",
    "\n",
    "# Add back transformed residuals and fitted values to the dataframe\n",
    "stop['fittedvalues_back'] = stop['fittedvalues_trans'] ** 2\n",
    "# stop['residuals_back'] = (stop['fittedvalues_trans'] + stop['residuals_trans']) ** 2 # this is wrong?\n",
    "stop['residuals_back'] = stop['Distance'] - stop['fittedvalues_back']\n",
    "\n",
    "stop.head()"
   ]
  },
  {
   "cell_type": "markdown",
   "metadata": {},
   "source": [
    "#### 5. Copy and paste the code you used in Homework 2 (Question 20) to plot your final, transformed model on a scatterplot of the data. Then, alter the code so the plot is saved as a function that can be called throughout the rest of the assignment. Call the function here to print the plot (it should look like the plot you made in Homework 2, Question 20)."
   ]
  },
  {
   "cell_type": "code",
   "execution_count": 19,
   "metadata": {},
   "outputs": [
    {
     "data": {
      "image/png": "[encoded data removed]",
      "text/plain": [
       "<Figure size 640x480 with 1 Axes>"
      ]
     },
     "metadata": {},
     "output_type": "display_data"
    }
   ],
   "source": [
    "def plot_model(df, x_column, y_column, y_fitted):\n",
    "    # Plot the original data\n",
    "    plt.scatter(stop[x_column], stop[y_column], label='Original Data')\n",
    "\n",
    "    # Plot the fitted curve on the original scale\n",
    "    plt.plot(stop[x_column], stop[y_fitted], color='red', label='Fitted Curve')\n",
    "\n",
    "    # Labels and title\n",
    "    plt.xlabel(x_column)\n",
    "    plt.ylabel(y_column)\n",
    "    plt.title('Original Data with Fitted Curve from Transformed Model')\n",
    "    plt.legend()\n",
    "\n",
    "plot_model(stop, 'Speed', 'Distance', 'fittedvalues_back')\n",
    "plt.show()"
   ]
  },
  {
   "cell_type": "markdown",
   "metadata": {},
   "source": [
    "#### 6. Call (print) the 95% confidence interval for the slope as reported in the summary output. Interpret this interval. (If you used a log transform, interpret as outlined in the course notes. If you used a different transformation, you can leave the units on the transformed scale)."
   ]
  },
  {
   "cell_type": "code",
   "execution_count": 10,
   "metadata": {},
   "outputs": [
    {
     "data": {
      "text/plain": [
       "0    0.233915\n",
       "1    0.271017\n",
       "Name: Speed, dtype: float64"
      ]
     },
     "execution_count": 10,
     "metadata": {},
     "output_type": "execute_result"
    }
   ],
   "source": [
    "# Get the 95% confidence interval for the slope (β1)\n",
    "slope_conf_int = res_trans.conf_int().iloc[1]\n",
    "\n",
    "slope_conf_int"
   ]
  },
  {
   "cell_type": "markdown",
   "metadata": {},
   "source": [
    "With 95% confidence, the average increase in stopping distance lies between 0.233915 and 0.271017 feet for every 1 MPH increase in speed."
   ]
  },
  {
   "cell_type": "markdown",
   "metadata": {},
   "source": [
    "#### 7. Based on the confidence interval, does an increase in speed *significantly* increase distance needed to stop? Why or why not?"
   ]
  },
  {
   "cell_type": "markdown",
   "metadata": {},
   "source": [
    "Yes, an increase in speed does significantly increase distance needed stop because the confidence interval does not include 0."
   ]
  },
  {
   "cell_type": "markdown",
   "metadata": {},
   "source": [
    "#### 8. Call (print) the test stastistic and corresponding p-value from the hypothesis test for the slope. Interpret the test results."
   ]
  },
  {
   "cell_type": "code",
   "execution_count": 12,
   "metadata": {},
   "outputs": [
    {
     "name": "stdout",
     "output_type": "stream",
     "text": [
      "Test statistic for the slope: 27.222930689501034\n",
      "P-value for the slope: 1.8261072779616222e-35\n"
     ]
    }
   ],
   "source": [
    "# Extract the t-statistic and p-value for the slope (β1)\n",
    "slope_t_stat = res_trans.tvalues.iloc[1]\n",
    "slope_p_value = res_trans.pvalues.iloc[1]\n",
    "\n",
    "# Print the test statistic and p-value\n",
    "print(f\"Test statistic for the slope: {slope_t_stat}\")\n",
    "print(f\"P-value for the slope: {slope_p_value}\")"
   ]
  },
  {
   "cell_type": "markdown",
   "metadata": {},
   "source": [
    "The p-value is much less than 0.05, so we reject the null hypothesis. This provides strong evidence that there is a statistically significant relationship between speed and stopping distance. For every 1 MPH increase in speed, the stopping distance significantly increases. The t-statistic shows that the estimated slope is 27.22 standard deviations away from 0 whcih means there is very strong evidence against the null hypothesis (that the slope is 0)."
   ]
  },
  {
   "cell_type": "markdown",
   "metadata": {},
   "source": [
    "#### 9. Compute, print, *and interpret* a 95% confidence interval for the average of $Y$ (on the original scale) when $x_i=30$."
   ]
  },
  {
   "cell_type": "code",
   "execution_count": 15,
   "metadata": {},
   "outputs": [
    {
     "data": {
      "text/html": [
       "<div>\n",
       "<style scoped>\n",
       "    .dataframe tbody tr th:only-of-type {\n",
       "        vertical-align: middle;\n",
       "    }\n",
       "\n",
       "    .dataframe tbody tr th {\n",
       "        vertical-align: top;\n",
       "    }\n",
       "\n",
       "    .dataframe thead th {\n",
       "        text-align: right;\n",
       "    }\n",
       "</style>\n",
       "<table border=\"1\" class=\"dataframe\">\n",
       "  <thead>\n",
       "    <tr style=\"text-align: right;\">\n",
       "      <th></th>\n",
       "      <th>mean_ci_lower</th>\n",
       "      <th>mean_ci_upper</th>\n",
       "    </tr>\n",
       "  </thead>\n",
       "  <tbody>\n",
       "    <tr>\n",
       "      <th>0</th>\n",
       "      <td>67.750537</td>\n",
       "      <td>77.117897</td>\n",
       "    </tr>\n",
       "  </tbody>\n",
       "</table>\n",
       "</div>"
      ],
      "text/plain": [
       "   mean_ci_lower  mean_ci_upper\n",
       "0      67.750537      77.117897"
      ]
     },
     "execution_count": 15,
     "metadata": {},
     "output_type": "execute_result"
    }
   ],
   "source": [
    "pred = res_trans.get_prediction([1, 30])\n",
    "np.square(pred.summary_frame(alpha = 0.05).loc[:, ['mean_ci_lower', 'mean_ci_upper']])"
   ]
  },
  {
   "cell_type": "markdown",
   "metadata": {},
   "source": [
    "With 95% confidence, the average stopping distance lies between 67.750537 and 77.117897 feet when speed is 30 MPH."
   ]
  },
  {
   "cell_type": "markdown",
   "metadata": {},
   "source": [
    "#### 10. Create a confidence band for the average of $Y$ across *all* values of $X$, and overlay this band (using a distinct color) on the scatterplot you created in Question 5 of this assignment. Print the plot."
   ]
  },
  {
   "cell_type": "code",
   "execution_count": 21,
   "metadata": {},
   "outputs": [
    {
     "data": {
      "image/png": "[encoded data removed]",
      "text/plain": [
       "<Figure size 640x480 with 1 Axes>"
      ]
     },
     "metadata": {},
     "output_type": "display_data"
    }
   ],
   "source": [
    "# Define Speed values to predict\n",
    "x = np.linspace(min(stop['Speed']), max(stop['Speed']), num=200)\n",
    "X = np.vstack((np.ones(200), x)).T  # Add intercept for predictions\n",
    "\n",
    "# Predict and store results with confidence intervals\n",
    "pred_trans = res_trans.get_prediction(X).summary_frame(alpha=0.05)\n",
    "\n",
    "# Back-transform the fitted values and confidence intervals\n",
    "pred_trans['mean'] = np.square(pred_trans['mean'])  # Back-transform fitted values\n",
    "pred_trans['mean_ci_lower'] = np.square(pred_trans['mean_ci_lower'])  # Lower CI\n",
    "pred_trans['mean_ci_upper'] = np.square(pred_trans['mean_ci_upper'])  # Upper CI\n",
    "\n",
    "# Create a new column for the back-transformed fitted values in stop DataFrame\n",
    "stop['fittedvalues_back'] = np.square(res_trans.fittedvalues)\n",
    "\n",
    "# Plot the predictions\n",
    "plot_model(stop, 'Speed', 'Distance', 'fittedvalues_back')\n",
    "\n",
    "# Fill the area between the confidence intervals\n",
    "plt.fill_between(x, \n",
    "                 pred_trans['mean_ci_lower'], \n",
    "                 pred_trans['mean_ci_upper'], \n",
    "                 color='blue',\n",
    "                 alpha=0.2)\n",
    "\n",
    "plt.show()"
   ]
  },
  {
   "cell_type": "markdown",
   "metadata": {},
   "source": [
    "#### 11. Compute, print, *and interpret* a 95% prediction interval for $Y$ (on the original scale) when $x_i=30$."
   ]
  },
  {
   "cell_type": "code",
   "execution_count": 22,
   "metadata": {},
   "outputs": [
    {
     "data": {
      "text/html": [
       "<div>\n",
       "<style scoped>\n",
       "    .dataframe tbody tr th:only-of-type {\n",
       "        vertical-align: middle;\n",
       "    }\n",
       "\n",
       "    .dataframe tbody tr th {\n",
       "        vertical-align: top;\n",
       "    }\n",
       "\n",
       "    .dataframe thead th {\n",
       "        text-align: right;\n",
       "    }\n",
       "</style>\n",
       "<table border=\"1\" class=\"dataframe\">\n",
       "  <thead>\n",
       "    <tr style=\"text-align: right;\">\n",
       "      <th></th>\n",
       "      <th>obs_ci_lower</th>\n",
       "      <th>obs_ci_upper</th>\n",
       "    </tr>\n",
       "  </thead>\n",
       "  <tbody>\n",
       "    <tr>\n",
       "      <th>0</th>\n",
       "      <td>49.537672</td>\n",
       "      <td>99.489666</td>\n",
       "    </tr>\n",
       "  </tbody>\n",
       "</table>\n",
       "</div>"
      ],
      "text/plain": [
       "   obs_ci_lower  obs_ci_upper\n",
       "0     49.537672     99.489666"
      ]
     },
     "execution_count": 22,
     "metadata": {},
     "output_type": "execute_result"
    }
   ],
   "source": [
    "pred = res_trans.get_prediction([1, 30])\n",
    "np.square(pred.summary_frame(alpha = 0.05).loc[:, ['obs_ci_lower', 'obs_ci_upper']])"
   ]
  },
  {
   "cell_type": "markdown",
   "metadata": {},
   "source": [
    "With 95% confidence, a randomly selected vehicle traveling 30 MPH is expected to have a stopping distance between 49.537672 feet and 99.489666 feet."
   ]
  },
  {
   "cell_type": "markdown",
   "metadata": {},
   "source": [
    "#### 12. Create a prediction band for $Y$ across *all* values of $X$, and overlay this band (using a distinct color) on the scatterplot you created in Question 5 of this assignment. Print the plot."
   ]
  },
  {
   "cell_type": "code",
   "execution_count": 23,
   "metadata": {},
   "outputs": [
    {
     "data": {
      "image/png": "[encoded data removed]",
      "text/plain": [
       "<Figure size 640x480 with 1 Axes>"
      ]
     },
     "metadata": {},
     "output_type": "display_data"
    }
   ],
   "source": [
    "plot_model(stop, 'Speed', 'Distance', 'fittedvalues_back')\n",
    "\n",
    "plt.fill_between(x, \n",
    "                 np.square(pred_trans['obs_ci_lower']), \n",
    "                 np.square(pred_trans['obs_ci_upper']), \n",
    "                 color = 'blue',\n",
    "                 alpha = 0.2)\n",
    "plt.show()"
   ]
  },
  {
   "cell_type": "markdown",
   "metadata": {},
   "source": [
    "#### 13. Briefly explain how/why the prediction band differs from the confidence band."
   ]
  },
  {
   "cell_type": "markdown",
   "metadata": {},
   "source": [
    "The prediction band reflects the range of values that are expected for individual observations at a given value of the predictor variable. It accounts for the variability and uncertainty in the individual data points around the fitted regression line.\n",
    "\n",
    "The confidence band represents the range within which we expect the true mean of the predicted values to lie for a given value of the predictor variable. "
   ]
  },
  {
   "cell_type": "markdown",
   "metadata": {},
   "source": [
    "#### 14. Compute and print the MSE (Mean Square Error)."
   ]
  },
  {
   "cell_type": "code",
   "execution_count": 37,
   "metadata": {},
   "outputs": [
    {
     "name": "stdout",
     "output_type": "stream",
     "text": [
      "97.2390963721964\n"
     ]
    }
   ],
   "source": [
    "# Calculate the Mean Squared Error (MSE)\n",
    "mse = np.sum(stop['residuals_back']**2) / (len(stop) - 2)\n",
    "print(mse)"
   ]
  },
  {
   "cell_type": "markdown",
   "metadata": {},
   "source": [
    "#### 15. Briefly explain (1) what the MSE estimates and (2) a drawback to using it as a model evaluation metric."
   ]
  },
  {
   "cell_type": "markdown",
   "metadata": {},
   "source": [
    "##### (1) What the MSE Estimates\n",
    "MSE estimates true error variance (INCORRECT: the average squared difference between the actual observed values and the values predicted by the model). It shows how well a regression model predicts the response variable in a numeric form. A lower MSE indicates that the model's predictions are closer to the actual values, reflecting better model performance. In essence, MSE provides a measure of prediction accuracy by evaluating the extent to which the model's predictions deviate from the true outcomes.\n",
    "\n",
    "##### (2) Drawback to Using MSE \n",
    "One drawback of using MSE as a model evaluation metric is it's sensitivity to outliers. Since the errors are squared, larger errors have a disproportionately greater impact on the MSE value compared to smaller errors which can lead to misleading conclusions about model performance if the dataset contains outliers or extreme values."
   ]
  },
  {
   "cell_type": "markdown",
   "metadata": {},
   "source": [
    "#### 16. Calculate the RMSE (Root Mean Square Error). Print and interpret the result. Your response should appropriately reference the scale of Y."
   ]
  },
  {
   "cell_type": "code",
   "execution_count": 36,
   "metadata": {},
   "outputs": [
    {
     "name": "stdout",
     "output_type": "stream",
     "text": [
      "9.860988610286313\n"
     ]
    }
   ],
   "source": [
    "rmse = np.sqrt(mse)\n",
    "print(rmse)"
   ]
  },
  {
   "cell_type": "markdown",
   "metadata": {},
   "source": [
    "On average, the model's predictions for stopping distance deviate from the actual observed distances by approximately 9.86 feet. MISSED POINTS: While RMSE has been returned to base units, it is weighted more toward outliers and thus can't be said to be the \"average\" stopping distances."
   ]
  },
  {
   "cell_type": "markdown",
   "metadata": {},
   "source": [
    "#### 17. Calculate the MAE (Mean Absolute Error). Print and interpret the result. Your response should appropriately reference the scale of Y."
   ]
  },
  {
   "cell_type": "code",
   "execution_count": 35,
   "metadata": {},
   "outputs": [
    {
     "name": "stdout",
     "output_type": "stream",
     "text": [
      "7.30399231754567\n"
     ]
    }
   ],
   "source": [
    "# Calculate the Mean Absolute Error (MAE)\n",
    "mae = np.sum(abs(stop['Distance'] - stop['fittedvalues_back'])) / (len(stop) - 2)\n",
    "print(mae)"
   ]
  },
  {
   "cell_type": "markdown",
   "metadata": {},
   "source": [
    "On average, the model’s predictions for the stopping distance deviate from the actual observed distances by approximately 7.30 feet."
   ]
  },
  {
   "cell_type": "markdown",
   "metadata": {},
   "source": [
    "#### 18. Briefly explain a benefit of using the MAE as a model evaluation metric over the RMSE."
   ]
  },
  {
   "cell_type": "markdown",
   "metadata": {},
   "source": [
    "RMSE is more prone to outliers than MAE, which can be seen by it's larger value. There must be outliers which have a greater impact on RMSE than MAE, making MAE a better choice. With MAE, each error contributes equally, making it a good indicator of overall model accuracy."
   ]
  },
  {
   "cell_type": "markdown",
   "metadata": {},
   "source": [
    "#### 19. Call (print) the R-Squared (Coefficient of Determination) value from your model results. Interpret this value based on the definition of R-Squared."
   ]
  },
  {
   "cell_type": "code",
   "execution_count": 38,
   "metadata": {},
   "outputs": [
    {
     "name": "stdout",
     "output_type": "stream",
     "text": [
      "0.9251018572915257\n"
     ]
    }
   ],
   "source": [
    "print(res_trans.rsquared)"
   ]
  },
  {
   "cell_type": "markdown",
   "metadata": {},
   "source": [
    "92.5% of the variation in the stopping distance can be explained by the speed of the vehicle."
   ]
  },
  {
   "cell_type": "markdown",
   "metadata": {},
   "source": [
    "#### 20. Call (print) the adjusted R-Squared value from your model results. Interpret this value based on the definition of the adjusted R-Squared."
   ]
  },
  {
   "cell_type": "code",
   "execution_count": 39,
   "metadata": {},
   "outputs": [
    {
     "name": "stdout",
     "output_type": "stream",
     "text": [
      "0.9238535549130511\n"
     ]
    }
   ],
   "source": [
    "print(res_trans.rsquared_adj)"
   ]
  },
  {
   "cell_type": "markdown",
   "metadata": {},
   "source": [
    "After adjusting for the number of predictors, still 92.4% of the variation in the stopping distance can be explained by the speed of the vehicle."
   ]
  },
  {
   "cell_type": "markdown",
   "metadata": {},
   "source": [
    "#### 21. Call (print) the test stastistic and corresponding p-value from the F-test. Interpret the test results."
   ]
  },
  {
   "cell_type": "code",
   "execution_count": 45,
   "metadata": {},
   "outputs": [
    {
     "name": "stdout",
     "output_type": "stream",
     "text": [
      "The test statistic for the F-test is  741.09  and the corresponding p-value is  1.826107277961601e-35\n"
     ]
    }
   ],
   "source": [
    "print(\"The test statistic for the F-test is \", \n",
    "      round(res_trans.fvalue, 2), \n",
    "      \" and the corresponding p-value is \",\n",
    "      res_trans.f_pvalue)"
   ]
  },
  {
   "cell_type": "markdown",
   "metadata": {},
   "source": [
    "##### F-Statistic\n",
    "\n",
    "The F-statistic of 741.09 is very large, which indicates that the variance explained by your model is much larger than the unexplained variance. A large F-statistic suggests that the speed significantly improves the model's ability to predict the stopping distance.\n",
    "\n",
    "##### P-Value\n",
    "\n",
    "The p-value is extremely small, which means there is an almost nonexistent chance that the relationship observed in the data is due to random chance."
   ]
  },
  {
   "cell_type": "markdown",
   "metadata": {},
   "source": [
    "#### 22. Briefly summarize what you learned from this analysis *to a non-statistician*. Write a few sentences about (1) the purpose of this data set and analysis and (2) what you learned about this data set from your analysis. Write your response as if you were addressing a business manager (avoid using statistics jargon) and just provide the main take-aways."
   ]
  },
  {
   "cell_type": "markdown",
   "metadata": {},
   "source": [
    "The purpose of this analysis was to understand how the speed of a vehicle affects its stopping distance. By examining data on vehicle speeds and their stopping distances, we aimed to build a model that could predict stopping distances based on speed.\n",
    "\n",
    "From the analysis, we learned that speed is a very strong predictor of stopping distance. As the vehicle's speed increases, the stopping distance increases significantly. The model we created does a good job of explaining how stopping distance changes with speed, meaning we can confidently use it to estimate stopping distances at various speeds. This information could be valuable for safety planning, vehicle design, or policy decisions related to road safety."
   ]
  },
  {
   "cell_type": "code",
   "execution_count": null,
   "metadata": {},
   "outputs": [],
   "source": []
  }
 ],
 "metadata": {
  "kernelspec": {
   "display_name": "Python (.venv)",
   "language": "python",
   "name": "myenv"
  },
  "language_info": {
   "codemirror_mode": {
    "name": "ipython",
    "version": 3
   },
   "file_extension": ".py",
   "mimetype": "text/x-python",
   "name": "python",
   "nbconvert_exporter": "python",
   "pygments_lexer": "ipython3",
   "version": "3.9.13"
  },
  "vscode": {
   "interpreter": {
    "hash": "10d6072494707c7bc211d55efe88ce18f2fd102f2ffa80102aae223c8d3d6fa2"
   }
  }
 },
 "nbformat": 4,
 "nbformat_minor": 4
}
