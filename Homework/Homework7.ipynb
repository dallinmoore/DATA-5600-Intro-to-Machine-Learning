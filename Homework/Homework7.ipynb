{
 "cells": [
  {
   "cell_type": "markdown",
   "id": "227b0e70",
   "metadata": {},
   "source": [
    "<center> <h1>Homework 7 | DATA 5600</h1> </center>\n",
    "<center> <h2>Logistic Regression</h2> </center>\n",
    "<center> <h3> /< YOUR NAME HERE /> <h3> <center>"
   ]
  },
  {
   "cell_type": "code",
   "execution_count": 1,
   "id": "f59760f9",
   "metadata": {
    "attributes": {
     "classes": [],
     "id": "",
     "include": "FALSE"
    }
   },
   "outputs": [],
   "source": [
    "# load packages here\n",
    "import pandas as pd\n",
    "import numpy as np\n",
    "import seaborn as sns\n",
    "from matplotlib import pyplot as plt\n",
    "import statsmodels.api as sm\n",
    "from statsmodels.stats.outliers_influence import variance_inflation_factor as vif\n",
    "from sklearn.linear_model import LogisticRegression\n",
    "from sklearn.model_selection import train_test_split\n",
    "\n",
    "from mlxtend.feature_selection import ExhaustiveFeatureSelector as EFS\n",
    "from sklearn.preprocessing import StandardScaler\n",
    "from sklearn.linear_model import ElasticNet\n",
    "from sklearn.linear_model import ElasticNetCV\n",
    "\n",
    "from sklearn.metrics import confusion_matrix\n",
    "from sklearn.metrics import RocCurveDisplay\n",
    "from sklearn.metrics import roc_auc_score\n",
    "\n",
    "#set seed\n",
    "import random\n",
    "random.seed(5600)"
   ]
  },
  {
   "cell_type": "markdown",
   "id": "ed79fd94",
   "metadata": {},
   "source": [
    "## Data and Description\n",
    "\n",
    "Type 2 diabetes is a problem with the body that causes blood sugar levels to rise higher than normal (hyperglycemia) because the body does not use insulin properly. Specifically, the body cannot make enough insulin to keep blood sugar levels normal. Type 2 diabetes is associated with various health complications such as neuropathy (nerve damage), glaucoma, cataracts and various skin disorders. Early detection of diabetes is crucial to proper treatment so as to alleviate complications.\n",
    "\n",
    "The data set contains information on 392 randomly selected women who are at risk for diabetes. The data set contains the following variables:\n",
    "\n",
    "| Variable  | Description                                                                        |\n",
    "|-----------|------------------------------------------------------------------------------------|\n",
    "| pregnant  | Number of times pregnant                                                           |\n",
    "| glucose   | Plasma glucose concentration at 2 hours in an oral glucose tolerance test          |\n",
    "| diastolic | Diastolic blood pressure (mm Hg)                                                   |\n",
    "| triceps   | Triceps skin fold thickness (mm)                                                   |\n",
    "| insulin   | 2 hour serum insulin (mu U/ml)                                                     |\n",
    "| bmi       | Body mass index ($kg/m^2$, mass in kilograms divided by height in meters-squared)  |\n",
    "| pedigree  | Numeric strength of diabetes in family line (higher numbers mean stronger history) |\n",
    "| age       | Age                                                                                |\n",
    "| diabetes  | Does the patient have diabetes (0 if \"No\", 1 if \"Yes\")                             |\n",
    "\n",
    "The data can be found in the Diabetes data set on Canvas. Download Diabetes.txt, and put it in the same folder as this file.\n",
    "\n",
    "#### 0. Replace the text \"\\< YOUR NAME HERE \\>\" (above) with your full name.\n",
    "\n",
    "#### 1. Read in the data set, call it \"dia\", and remove the \"row\" column. Print a summary of the data or the top few rows, and make sure the data makes sense."
   ]
  },
  {
   "cell_type": "code",
   "execution_count": 2,
   "id": "d9bf3898",
   "metadata": {},
   "outputs": [],
   "source": [
    "# your code here"
   ]
  },
  {
   "cell_type": "markdown",
   "id": "d0b4a088-6ced-4952-88cd-792053078918",
   "metadata": {},
   "source": [
    "#### 2. Print out the number of women who have diabetes and who do not have diabetes. [1 point]"
   ]
  },
  {
   "cell_type": "code",
   "execution_count": 3,
   "id": "61de5883-74b1-4a7e-91e6-9f05f1ef1f39",
   "metadata": {},
   "outputs": [],
   "source": [
    "# your code here"
   ]
  },
  {
   "cell_type": "markdown",
   "id": "c27a96b3",
   "metadata": {},
   "source": [
    "#### 3. Explore the data. Create a color-coded correlation matrix for the covariates. *Comment on why or why not you think multicollinearity may be a problem for this data set.* [1 point]"
   ]
  },
  {
   "cell_type": "code",
   "execution_count": 4,
   "id": "38efa17e",
   "metadata": {
    "attributes": {
     "classes": [],
     "fig.align": "'center'",
     "id": ""
    }
   },
   "outputs": [],
   "source": [
    "# your code here"
   ]
  },
  {
   "cell_type": "markdown",
   "id": "a51d7444",
   "metadata": {},
   "source": [
    "\\< your response here \\>"
   ]
  },
  {
   "cell_type": "markdown",
   "id": "776a3a7d",
   "metadata": {},
   "source": [
    "\n",
    "\n",
    "#### 4. Explore the data. Create boxplots of the response against the following predictors: glucose, bmi, pedigree, and age (4 plots in total). You may want to use the `plt.subplots` function from the `matplotlib` package to display them in a 2x2 grid. *Briefly comment on one interesting trend you observe.* [1 point]"
   ]
  },
  {
   "cell_type": "code",
   "execution_count": 5,
   "id": "0c9d4809",
   "metadata": {
    "attributes": {
     "classes": [],
     "fig.align": "'center'",
     "id": ""
    }
   },
   "outputs": [],
   "source": [
    "# your code here"
   ]
  },
  {
   "cell_type": "markdown",
   "id": "7976d624",
   "metadata": {},
   "source": [
    "\\< your response here \\>\n"
   ]
  },
  {
   "cell_type": "markdown",
   "id": "d27be7c6",
   "metadata": {},
   "source": [
    "\n",
    "#### 5. Explore the data. Create a color-coded scatterplot of bmi vs glucose colred by diabetes. *Briefly comment on what you observe.* [1 point]"
   ]
  },
  {
   "cell_type": "code",
   "execution_count": 6,
   "id": "798544b0",
   "metadata": {
    "attributes": {
     "classes": [],
     "fig.align": "'center'",
     "id": ""
    }
   },
   "outputs": [],
   "source": [
    "# your code here"
   ]
  },
  {
   "cell_type": "markdown",
   "id": "09f98b38",
   "metadata": {},
   "source": [
    "\\< your response here \\>\n"
   ]
  },
  {
   "cell_type": "markdown",
   "id": "279b3ba0",
   "metadata": {},
   "source": [
    "\n",
    "#### 6. Briefly explain one reason why traditional multiple linear regression methods are not suitable for this data set. [1 point]"
   ]
  },
  {
   "cell_type": "markdown",
   "id": "9019db2a",
   "metadata": {},
   "source": [
    "\n",
    "\\< your response here \\>\n"
   ]
  },
  {
   "cell_type": "markdown",
   "id": "0b5bb6b1-7e24-4f36-9b2d-49476766400d",
   "metadata": {},
   "source": [
    "#### 7. Split the data set into train and test sets using an 80/20 split. [1 point]"
   ]
  },
  {
   "cell_type": "code",
   "execution_count": 7,
   "id": "6f665508-8305-45ae-a77e-cae16c9b44a8",
   "metadata": {},
   "outputs": [],
   "source": [
    "# your code here"
   ]
  },
  {
   "cell_type": "markdown",
   "id": "4001d508-1b88-4d13-bfdb-6b74eecec241",
   "metadata": {},
   "source": [
    "\n",
    "#### 8. *Using the training data set*, apply one variable selection procedure to help you decide which, if any, variables to omit from the logistic regression model. You may choose which selection method to use (best subsets, backward, or sequential replacement). Use \"accuracy\" for the scoring metric. Write out the names of the variables you will include in your model. [1 point]"
   ]
  },
  {
   "cell_type": "code",
   "execution_count": 8,
   "id": "3fdc6b61",
   "metadata": {
    "attributes": {
     "classes": [],
     "fig.align": "'center'",
     "id": ""
    }
   },
   "outputs": [],
   "source": [
    "# your code here"
   ]
  },
  {
   "cell_type": "markdown",
   "id": "9f3a3237",
   "metadata": {},
   "source": [
    "\\< your response here \\>\n"
   ]
  },
  {
   "cell_type": "markdown",
   "id": "861b69e3",
   "metadata": {},
   "source": [
    "#### 9. Write out the general/theoretical logistic regression model for this data set using the covariates that you chose in the previous question. You should use parameters/Greek letters (NOT the \"fitted\" model using numbers...since you have not fit a model yet;)). [3 points]"
   ]
  },
  {
   "cell_type": "markdown",
   "id": "039614c0",
   "metadata": {},
   "source": [
    "\\< your response here \\>\n"
   ]
  },
  {
   "cell_type": "markdown",
   "id": "5c2869ce",
   "metadata": {},
   "source": [
    "#### 10. Fit a logistic regression model using the covariates you chose. Print a summary of the results. [1 point]"
   ]
  },
  {
   "cell_type": "code",
   "execution_count": 9,
   "id": "b932d40b",
   "metadata": {
    "attributes": {
     "classes": [],
     "fig.align": "'center'",
     "id": ""
    }
   },
   "outputs": [],
   "source": [
    "# your code here"
   ]
  },
  {
   "cell_type": "markdown",
   "id": "423bf810",
   "metadata": {},
   "source": [
    "### Questions 11-15 involve using diagnostics to check the logistic regression model assumptions. For each assumption, (1) code the diagnostic(s) that I indicate (next to the assumption in parentheses) to determine if the assumption is violated, and (2) explain whether or not you think the assumption is violated and *why* you think that."
   ]
  },
  {
   "cell_type": "markdown",
   "id": "e45cdcda",
   "metadata": {},
   "source": [
    "\n",
    "#### 11. The X's vs log odds are linear (monotone in probability) (Use scatterplots with smoothers - `sm.nonparametric.lowess`) [1 point]"
   ]
  },
  {
   "cell_type": "code",
   "execution_count": 10,
   "id": "727f9bb2",
   "metadata": {
    "attributes": {
     "classes": [],
     "fig.align": "'center'",
     "id": ""
    }
   },
   "outputs": [],
   "source": [
    "# your code here"
   ]
  },
  {
   "cell_type": "markdown",
   "id": "791551ca",
   "metadata": {},
   "source": [
    "\\< your response here \\>\n"
   ]
  },
  {
   "cell_type": "markdown",
   "id": "880b3060",
   "metadata": {},
   "source": [
    "#### 12. The observations are independent (no diagnostic tools - just think about how the data was collected and briefly write your thoughts) [1 point]\n"
   ]
  },
  {
   "cell_type": "markdown",
   "id": "93077789",
   "metadata": {},
   "source": [
    "\n",
    "\\< your response here \\>\n"
   ]
  },
  {
   "cell_type": "markdown",
   "id": "e47a48c8",
   "metadata": {},
   "source": [
    "\n",
    "#### 13. The model describes all observations (i.e., there are no influential points) (Use DFFITS) [1 point]"
   ]
  },
  {
   "cell_type": "code",
   "execution_count": 11,
   "id": "afa118ed",
   "metadata": {
    "attributes": {
     "classes": [],
     "fig.align": "'center'",
     "id": ""
    }
   },
   "outputs": [],
   "source": [
    "# your code here"
   ]
  },
  {
   "cell_type": "markdown",
   "id": "43f44df0",
   "metadata": {},
   "source": [
    "\\< your response here \\>\n"
   ]
  },
  {
   "cell_type": "markdown",
   "id": "68c5743d",
   "metadata": {},
   "source": [
    "\n",
    "#### 14. Additional predictor variables are not required (no diagnostic tools - just think about the variables you have and if there are other variables you think would help predict the response) [1 point]\n"
   ]
  },
  {
   "cell_type": "markdown",
   "id": "07927b0d",
   "metadata": {},
   "source": [
    "\\< your response here \\>\n"
   ]
  },
  {
   "cell_type": "markdown",
   "id": "00634f90",
   "metadata": {},
   "source": [
    "#### 15. No multicollinearity (Use variance inflation factors) [1 point]"
   ]
  },
  {
   "cell_type": "code",
   "execution_count": 12,
   "id": "238418eb",
   "metadata": {
    "attributes": {
     "classes": [],
     "fig.align": "'center'",
     "id": ""
    }
   },
   "outputs": [],
   "source": [
    "# your code here"
   ]
  },
  {
   "cell_type": "markdown",
   "id": "727ed6df",
   "metadata": {},
   "source": [
    "\\< your response here \\>\n"
   ]
  },
  {
   "cell_type": "markdown",
   "id": "68b2abd2",
   "metadata": {},
   "source": [
    "\n",
    "#### 16. Briefly comment on if all assumptions are met. We will move forward with the data set as-is, but if there is something you would want to do before proceeding to statistical inference, explain what that would be. [1 point]"
   ]
  },
  {
   "cell_type": "markdown",
   "id": "eaacd899",
   "metadata": {},
   "source": [
    "\\< your response here \\>"
   ]
  },
  {
   "cell_type": "markdown",
   "id": "9e34e270",
   "metadata": {},
   "source": [
    "#### 17. For the coefficient for pedigree, compute (and output) the log odds ratio ($\\beta_{pedigree}$, pull this value from the model output), odds ratio ($\\exp\\{\\beta_{pedigree}\\}$), and the odds ratio converted to a percentage ($100 \\times (\\exp\\{\\beta_{pedigree}\\} - 1)%$). *If you did not include pedigree in your model, just pick a variable you did include instead.* [3 points]"
   ]
  },
  {
   "cell_type": "code",
   "execution_count": 13,
   "id": "8974405e",
   "metadata": {
    "attributes": {
     "classes": [],
     "fig.align": "'center'",
     "id": ""
    }
   },
   "outputs": [],
   "source": [
    "# your code here"
   ]
  },
  {
   "cell_type": "markdown",
   "id": "382e0999",
   "metadata": {},
   "source": [
    "#### 18. Interpret the coefficient for pedigree based on the FOUR different ways we discussed in class. *If you did not include pedigree in your model, use the same variable you chose in the previous question.* [4 points]\n"
   ]
  },
  {
   "cell_type": "markdown",
   "id": "04bc606f",
   "metadata": {},
   "source": [
    "*Interpretation 1:* < your response here >\n",
    "\n",
    "*Interpretation 2:* < your response here >\n",
    "\n",
    "*Interpretation 3:* < your response here >\n",
    "\n",
    "*Interpretation 4:* < your response here >"
   ]
  },
  {
   "cell_type": "markdown",
   "id": "743449ee",
   "metadata": {},
   "source": [
    "#### 19. Create (and output) 95% confidence intervals for $\\beta_{glucose}$, $\\exp\\{\\beta_{glucose}\\}$, and $100 \\times (\\exp\\{\\beta_{glucose}\\} - 1)%$ for glucose using the `conf_int` function. *If you did not include glucose in your model, just pick a variable you did include instead.* [3 points]"
   ]
  },
  {
   "cell_type": "code",
   "execution_count": 14,
   "id": "a8519a4e",
   "metadata": {
    "attributes": {
     "classes": [],
     "fig.align": "'center'",
     "id": ""
    }
   },
   "outputs": [],
   "source": [
    "# your code here\n",
    "# Hint: to get the log odds ratio, use this code:   res.conf_int().iloc[***, :]     \n",
    "#                                                   where *** is the column location of the variable\n",
    "#                                                   of interest (remember Python starts counting with 0, not 1)"
   ]
  },
  {
   "cell_type": "markdown",
   "id": "73bd218b",
   "metadata": {},
   "source": [
    "#### 20. Interpret the three 95% confidence intervals for glucose you found in the previous question (three interpretations total). *If you did not include glucose in your model, use the same variable you chose in the previous question.* [3 points]\n"
   ]
  },
  {
   "cell_type": "markdown",
   "id": "72127c4c",
   "metadata": {},
   "source": [
    "\n",
    "*Interpretation 1:* < your response here >\n",
    "\n",
    "*Interpretation 2:* < your response here >\n",
    "\n",
    "*Interpretation 3:* < your response here >\n"
   ]
  },
  {
   "cell_type": "markdown",
   "id": "d016b83c",
   "metadata": {},
   "source": [
    "#### 21. Calculate a 95% confidence interval for the predicted probability that a patient has diabetes where pregnant = 1, glucose = 90, diastolic = 62, triceps = 18, insulin = 59, bmi = 25.1, pedigree = 1.268 and age = 25. Note that you may not need to use all of these values depending on the variables you chose to include in your model. *Do you think this patient will develop diabetes? Why or why not?* [2 points]"
   ]
  },
  {
   "cell_type": "code",
   "execution_count": 15,
   "id": "db6d5325",
   "metadata": {
    "attributes": {
     "classes": [],
     "eval": "FALSE",
     "id": ""
    }
   },
   "outputs": [],
   "source": [
    "# your code here"
   ]
  },
  {
   "cell_type": "markdown",
   "id": "062953f5",
   "metadata": {},
   "source": [
    "\\< your response here \\>"
   ]
  },
  {
   "cell_type": "markdown",
   "id": "89aee9e5",
   "metadata": {},
   "source": [
    "#### 22. What is the $p$-value of the likelihood ratio test (aka deviance, aka model chi-squared)? (You can copy/paste this from the model summary output from question 10). What does this $p$-value tell you? [2 points]"
   ]
  },
  {
   "cell_type": "markdown",
   "id": "d20d929a",
   "metadata": {},
   "source": [
    "\\< your response here \\>"
   ]
  },
  {
   "cell_type": "markdown",
   "id": "6a9597fd",
   "metadata": {},
   "source": [
    "#### 23. What is the best cutoff value for the model that minimizes the percent misclassified? Show your code and output the best cutoff value. [1 point]"
   ]
  },
  {
   "cell_type": "code",
   "execution_count": 16,
   "id": "1bcdb91c",
   "metadata": {
    "attributes": {
     "classes": [],
     "fig.align": "'center'",
     "id": ""
    }
   },
   "outputs": [],
   "source": [
    "# your code here"
   ]
  },
  {
   "cell_type": "markdown",
   "id": "6d842a28",
   "metadata": {},
   "source": [
    "#### 24. Create (and output) a confusion matrix FOR THE TEST DATA SET using the best cutoff value you found above. [1 point]"
   ]
  },
  {
   "cell_type": "code",
   "execution_count": 17,
   "id": "978ba696",
   "metadata": {
    "attributes": {
     "classes": [],
     "fig.align": "'center'",
     "id": ""
    }
   },
   "outputs": [],
   "source": [
    "# your code here"
   ]
  },
  {
   "cell_type": "markdown",
   "id": "7920f289",
   "metadata": {},
   "source": [
    "#### 25. Based on the confusion matrix, calculate (and output) the value for the specificity. What does the specificity measure in context of this data set? [1 point]"
   ]
  },
  {
   "cell_type": "code",
   "execution_count": 18,
   "id": "eedb1966",
   "metadata": {
    "attributes": {
     "classes": [],
     "fig.align": "'center'",
     "id": ""
    }
   },
   "outputs": [],
   "source": [
    "# your code here"
   ]
  },
  {
   "cell_type": "markdown",
   "id": "5d5ae4fa-78b0-46ee-8560-897740459e3f",
   "metadata": {},
   "source": [
    "< your response here >"
   ]
  },
  {
   "cell_type": "markdown",
   "id": "f030edb1",
   "metadata": {
    "tags": []
   },
   "source": [
    "#### 26. Based on the confusion matrix, calculate (and output) the value for the sensitivity. What does the sensitivity measure in context of this data set? [1 point]"
   ]
  },
  {
   "cell_type": "code",
   "execution_count": 19,
   "id": "98ba2074",
   "metadata": {
    "attributes": {
     "classes": [],
     "fig.align": "'center'",
     "id": ""
    }
   },
   "outputs": [],
   "source": [
    "# your code here"
   ]
  },
  {
   "cell_type": "markdown",
   "id": "4d9143b8",
   "metadata": {},
   "source": [
    "\\< your response here \\>"
   ]
  },
  {
   "cell_type": "markdown",
   "id": "4e30c3b8",
   "metadata": {},
   "source": [
    "#### 27. Based on the confusion matrix, calculate (and output) the percent correctly classified (accuracy). What does the percent correctly classified measure in context of this data set? [1 point]"
   ]
  },
  {
   "cell_type": "code",
   "execution_count": 20,
   "id": "71135ce9",
   "metadata": {
    "attributes": {
     "classes": [],
     "fig.align": "'center'",
     "id": ""
    }
   },
   "outputs": [],
   "source": [
    "# your code here"
   ]
  },
  {
   "cell_type": "markdown",
   "id": "73d51e39",
   "metadata": {},
   "source": [
    "\\< your response here \\>"
   ]
  },
  {
   "cell_type": "markdown",
   "id": "ffa169ad",
   "metadata": {},
   "source": [
    "#### 28. What is the AUC FOR THE TEST DATA? [1 point]"
   ]
  },
  {
   "cell_type": "code",
   "execution_count": 21,
   "id": "88b9a19e",
   "metadata": {
    "attributes": {
     "classes": [],
     "fig.align": "'center'",
     "id": ""
    }
   },
   "outputs": [],
   "source": [
    "# your code here"
   ]
  },
  {
   "cell_type": "markdown",
   "id": "f403dd38",
   "metadata": {},
   "source": [
    "\n",
    "#### 29. Briefly summarize what you learned from this analysis *to a non-statistician*. Write a few sentences about (1) the purpose of this data set and analysis and (2) what you learned about this data set from your analysis. Write your response as if you were addressing a business manager (avoid using statistics jargon) and just provide the main take-aways. [1 point]\n"
   ]
  },
  {
   "cell_type": "markdown",
   "id": "c9b3e4e5",
   "metadata": {},
   "source": [
    "\n",
    "\\< your response here \\>"
   ]
  }
 ],
 "metadata": {
  "kernelspec": {
   "display_name": "Python 3 (ipykernel)",
   "language": "python",
   "name": "python3"
  },
  "language_info": {
   "codemirror_mode": {
    "name": "ipython",
    "version": 3
   },
   "file_extension": ".py",
   "mimetype": "text/x-python",
   "name": "python",
   "nbconvert_exporter": "python",
   "pygments_lexer": "ipython3",
   "version": "3.11.4"
  },
  "vscode": {
   "interpreter": {
    "hash": "10d6072494707c7bc211d55efe88ce18f2fd102f2ffa80102aae223c8d3d6fa2"
   }
  }
 },
 "nbformat": 4,
 "nbformat_minor": 5
}
