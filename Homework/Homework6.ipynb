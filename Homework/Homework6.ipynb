{
 "cells": [
  {
   "cell_type": "markdown",
   "id": "d9dd5646",
   "metadata": {
    "id": "d9dd5646"
   },
   "source": [
    "<center> <h1>Homework 6 | DATA 5600</h1> </center>\n",
    "<center> <h2>Multiple Linear Regression Additional Variable Types</h2> </center>\n",
    "<center> <h3> Dallin Moore <h3> <center>"
   ]
  },
  {
   "cell_type": "code",
   "execution_count": 1,
   "id": "7bc58cc6",
   "metadata": {
    "attributes": {
     "classes": [],
     "id": "",
     "include": "FALSE"
    },
    "id": "7bc58cc6"
   },
   "outputs": [],
   "source": [
    "# load packages here\n",
    "import pandas as pd\n",
    "import seaborn as sns\n",
    "from matplotlib import pyplot as plt\n",
    "import statsmodels.api as sm\n",
    "from statsmodels.graphics.factorplots import interaction_plot\n",
    "from statsmodels.stats.anova import anova_lm"
   ]
  },
  {
   "cell_type": "markdown",
   "id": "9641059a",
   "metadata": {
    "id": "9641059a"
   },
   "source": [
    "## Data and Description\n",
    "\n",
    "**Note that for the sake of length for this homework assignment, I am not having you check the model assumptions. You certainly can, if you would like, and in \"real life\" you would definitely need to do this prior to any statistical inference.**\n",
    "\n",
    "Macroeconomists often speculate that life expectancy is linked with the economic well-being of a country. Macroeconomists also hypothesize that Organization for Economic Co-operation and Development (OECD) (an international think tank charged with promoting policies that will improve global social and economic well-being) members will have longer life expectancy. To test these hypotheses, the LifeExpectancy.txt data set (found on Canvas) contains the following information:\n",
    "\n",
    "| Variable | Description|\n",
    "|-|-|\n",
    "| LifeExp| Average life expectancy in years|\n",
    "| Country| Country name|\n",
    "| Group| Is the country a member of OECD, Africa, or other? |\n",
    "| PPGDP| Per person GDP (on the log scale)|\n",
    "\n",
    "The Group variable indicates if the country is a member of the OECD, a member of the African continent, or belonging to neither group (other). **Note that the Country variable is just for your reference - you will not use this variable in your model.**\n",
    "\n",
    "Download LifeExpectancy.txt, and put it in the same folder this Jupyter Notebook.\n"
   ]
  },
  {
   "cell_type": "markdown",
   "id": "6b768d72",
   "metadata": {
    "id": "6b768d72"
   },
   "source": [
    "\n",
    "#### 0. Replace the text \"\\< YOUR NAME HERE \\>\" (above) with your full name.\n"
   ]
  },
  {
   "cell_type": "markdown",
   "id": "09137af0",
   "metadata": {
    "id": "09137af0"
   },
   "source": [
    "\n",
    "#### 1. Read in the data set, call it \"life\" and remove the \"Row\" column. Print a summary of the data, and expore the data to make sure the data makes sense. [1 point]"
   ]
  },
  {
   "cell_type": "code",
   "execution_count": 2,
   "id": "5bd359a0",
   "metadata": {
    "id": "5bd359a0"
   },
   "outputs": [
    {
     "data": {
      "text/html": [
       "<div>\n",
       "<style scoped>\n",
       "    .dataframe tbody tr th:only-of-type {\n",
       "        vertical-align: middle;\n",
       "    }\n",
       "\n",
       "    .dataframe tbody tr th {\n",
       "        vertical-align: top;\n",
       "    }\n",
       "\n",
       "    .dataframe thead th {\n",
       "        text-align: right;\n",
       "    }\n",
       "</style>\n",
       "<table border=\"1\" class=\"dataframe\">\n",
       "  <thead>\n",
       "    <tr style=\"text-align: right;\">\n",
       "      <th></th>\n",
       "      <th>Country</th>\n",
       "      <th>Group</th>\n",
       "      <th>PPGDP</th>\n",
       "      <th>LifeExp</th>\n",
       "    </tr>\n",
       "    <tr>\n",
       "      <th>Row</th>\n",
       "      <th></th>\n",
       "      <th></th>\n",
       "      <th></th>\n",
       "      <th></th>\n",
       "    </tr>\n",
       "  </thead>\n",
       "  <tbody>\n",
       "    <tr>\n",
       "      <th>1</th>\n",
       "      <td>Albania</td>\n",
       "      <td>other</td>\n",
       "      <td>8.209907</td>\n",
       "      <td>75.31</td>\n",
       "    </tr>\n",
       "    <tr>\n",
       "      <th>2</th>\n",
       "      <td>Anguilla</td>\n",
       "      <td>other</td>\n",
       "      <td>9.528801</td>\n",
       "      <td>79.19</td>\n",
       "    </tr>\n",
       "    <tr>\n",
       "      <th>3</th>\n",
       "      <td>Argentina</td>\n",
       "      <td>other</td>\n",
       "      <td>9.122831</td>\n",
       "      <td>77.72</td>\n",
       "    </tr>\n",
       "    <tr>\n",
       "      <th>4</th>\n",
       "      <td>Armenia</td>\n",
       "      <td>other</td>\n",
       "      <td>8.016549</td>\n",
       "      <td>74.54</td>\n",
       "    </tr>\n",
       "    <tr>\n",
       "      <th>5</th>\n",
       "      <td>Aruba</td>\n",
       "      <td>other</td>\n",
       "      <td>10.036772</td>\n",
       "      <td>79.80</td>\n",
       "    </tr>\n",
       "  </tbody>\n",
       "</table>\n",
       "</div>"
      ],
      "text/plain": [
       "       Country  Group      PPGDP  LifeExp\n",
       "Row                                      \n",
       "1      Albania  other   8.209907    75.31\n",
       "2     Anguilla  other   9.528801    79.19\n",
       "3    Argentina  other   9.122831    77.72\n",
       "4      Armenia  other   8.016549    74.54\n",
       "5        Aruba  other  10.036772    79.80"
      ]
     },
     "execution_count": 2,
     "metadata": {},
     "output_type": "execute_result"
    }
   ],
   "source": [
    "life = pd.read_csv('LifeExpectancy.txt', sep=' ', index_col=0)\n",
    "life.head()"
   ]
  },
  {
   "cell_type": "markdown",
   "id": "4fde64ea",
   "metadata": {
    "id": "4fde64ea"
   },
   "source": [
    "#### 2. Create and print a scatterplot with the response on the $y$-axis and the other continuous variable on the $x$-axis. Comment on the the relationship between these two variables. [2 points]"
   ]
  },
  {
   "cell_type": "code",
   "execution_count": 4,
   "id": "5964cc82",
   "metadata": {
    "attributes": {
     "classes": [],
     "fig.align": "'center'",
     "id": ""
    },
    "id": "5964cc82"
   },
   "outputs": [
    {
     "data": {
      "image/png": "[encoded data removed]",
      "text/plain": [
       "<Figure size 640x480 with 1 Axes>"
      ]
     },
     "metadata": {},
     "output_type": "display_data"
    }
   ],
   "source": [
    "sns.scatterplot(x='PPGDP', y='LifeExp', data=life)\n",
    "plt.title('Scatterplot of Life Expectancy vs. PPGDP')\n",
    "plt.show()"
   ]
  },
  {
   "cell_type": "markdown",
   "id": "c8bdfd10",
   "metadata": {
    "id": "c8bdfd10"
   },
   "source": [
    "Overall the relationship is a strong, positive, linear relationship. It also appears that there are 2 distinct models with similar correlation."
   ]
  },
  {
   "cell_type": "markdown",
   "id": "1102be3a",
   "metadata": {
    "id": "1102be3a"
   },
   "source": [
    "\n",
    "#### 3. Create and print a boxplot with the response on the $y$-axis and the categorical variable on the $x$-axis. Comment on the the relationship between these two variables. [2 points]"
   ]
  },
  {
   "cell_type": "code",
   "execution_count": 7,
   "id": "80d02993",
   "metadata": {
    "attributes": {
     "classes": [],
     "fig.align": "'center'",
     "id": ""
    },
    "id": "80d02993"
   },
   "outputs": [
    {
     "data": {
      "image/png": "[encoded data removed]",
      "text/plain": [
       "<Figure size 640x480 with 1 Axes>"
      ]
     },
     "metadata": {},
     "output_type": "display_data"
    }
   ],
   "source": [
    "sns.boxplot(x='Group', y='LifeExp', data=life)\n",
    "plt.title('Boxplot of Life Expectancy by Region')\n",
    "plt.show()"
   ]
  },
  {
   "cell_type": "markdown",
   "id": "be7bc0e5",
   "metadata": {
    "id": "be7bc0e5"
   },
   "source": [
    "The average life expectancy in Africa is much lower than in countries part of the OECD. Countries not included in either group have average life expectancy between OECD and Africa, although the average is closer to OECD. Other also has more spread and less outliers than OECD or Africa."
   ]
  },
  {
   "cell_type": "markdown",
   "id": "c857cf6e",
   "metadata": {
    "id": "c857cf6e"
   },
   "source": [
    "#### 4. Create and print a color-coded scatterplot using all of the variables that will be in your model. Hint: plot the response on the $y$-axis, the other continuous variable on the $x$-axis, and color the points by the categorical variable. [1 point]"
   ]
  },
  {
   "cell_type": "code",
   "execution_count": 8,
   "id": "33561aa9",
   "metadata": {
    "attributes": {
     "classes": [],
     "fig.align": "'center'",
     "id": ""
    },
    "id": "33561aa9"
   },
   "outputs": [
    {
     "data": {
      "image/png": "[encoded data removed]",
      "text/plain": [
       "<Figure size 640x480 with 1 Axes>"
      ]
     },
     "metadata": {},
     "output_type": "display_data"
    }
   ],
   "source": [
    "# Create and print a color-coded scatterplot using all of the variables that will be in your model. Hint: plot the response on the $y$-axis, the other continuous variable on the $x$-axis, and color the points by the categorical variable.\n",
    "sns.scatterplot(x='PPGDP', y='LifeExp', hue='Group', data=life)\n",
    "plt.title('Scatterplot of Life Expectancy vs. PPGDP by Region')\n",
    "plt.show()"
   ]
  },
  {
   "cell_type": "markdown",
   "id": "712e535f",
   "metadata": {
    "id": "712e535f"
   },
   "source": [
    "#### 5. Write out the general/theoretical model (using Greek letters/parameters) that you are thinking about applying to this data set (you will not write out the fitted model using coefficients, because you have not fit a model yet;)). DO NOT include interactions at this step. Remember, you will need to use dummy variables for Group. **USE \"other\" AS THE BASELINE CATEGORY**. Use variable names that are descriptive (not $y$, $x_1$, etc.). [2 points]"
   ]
  },
  {
   "cell_type": "markdown",
   "id": "43a20b68",
   "metadata": {
    "vscode": {
     "languageId": "tex"
    }
   },
   "source": [
    "The general model without interactions is:\n",
    "\n",
    "$ \\text{LifeExp}_i = \\beta_0 + \\beta_1 \\text{PPGDP}_i + \\beta_2 \\text{OECD}_i + \\beta_3 \\text{Africa}_i + \\epsilon_i \\overset{\\text{iid}}{\\sim} N(0, \\sigma^2) $\n",
    "\n",
    "Where:\n",
    "- $\\text{LifeExp}_i$ is the life expectancy for country $i$\n",
    "- $\\beta_0$ is the intercept\n",
    "- $\\beta_1$ is the coefficient for per person GDP\n",
    "- $\\beta_2$ is the coefficient for the dummy variable indicating if the country is a member of OECD\n",
    "- $\\beta_3$ is the coefficient for the dummy variable indicating if the country is a member of Africa\n",
    "- $\\epsilon_i \\overset{\\text{iid}}{\\sim} N(0, \\sigma^2)$ = The error term for observation $i$, assumed to be independently and identically distributed (iid) and drawn from a normal distribution with a mean of 0 and a variance of $\\sigma^2$.\n"
   ]
  },
  {
   "cell_type": "markdown",
   "id": "8f7bc18f",
   "metadata": {
    "id": "8f7bc18f"
   },
   "source": [
    "#### 6. Code indicator/dummy variables for Group. [1 point]"
   ]
  },
  {
   "cell_type": "code",
   "execution_count": 25,
   "id": "649bd502",
   "metadata": {
    "id": "649bd502"
   },
   "outputs": [
    {
     "data": {
      "text/html": [
       "<div>\n",
       "<style scoped>\n",
       "    .dataframe tbody tr th:only-of-type {\n",
       "        vertical-align: middle;\n",
       "    }\n",
       "\n",
       "    .dataframe tbody tr th {\n",
       "        vertical-align: top;\n",
       "    }\n",
       "\n",
       "    .dataframe thead th {\n",
       "        text-align: right;\n",
       "    }\n",
       "</style>\n",
       "<table border=\"1\" class=\"dataframe\">\n",
       "  <thead>\n",
       "    <tr style=\"text-align: right;\">\n",
       "      <th></th>\n",
       "      <th>Country</th>\n",
       "      <th>PPGDP</th>\n",
       "      <th>LifeExp</th>\n",
       "      <th>Group_africa</th>\n",
       "      <th>Group_oecd</th>\n",
       "    </tr>\n",
       "    <tr>\n",
       "      <th>Row</th>\n",
       "      <th></th>\n",
       "      <th></th>\n",
       "      <th></th>\n",
       "      <th></th>\n",
       "      <th></th>\n",
       "    </tr>\n",
       "  </thead>\n",
       "  <tbody>\n",
       "    <tr>\n",
       "      <th>1</th>\n",
       "      <td>Albania</td>\n",
       "      <td>8.209907</td>\n",
       "      <td>75.31</td>\n",
       "      <td>0</td>\n",
       "      <td>0</td>\n",
       "    </tr>\n",
       "    <tr>\n",
       "      <th>2</th>\n",
       "      <td>Anguilla</td>\n",
       "      <td>9.528801</td>\n",
       "      <td>79.19</td>\n",
       "      <td>0</td>\n",
       "      <td>0</td>\n",
       "    </tr>\n",
       "    <tr>\n",
       "      <th>3</th>\n",
       "      <td>Argentina</td>\n",
       "      <td>9.122831</td>\n",
       "      <td>77.72</td>\n",
       "      <td>0</td>\n",
       "      <td>0</td>\n",
       "    </tr>\n",
       "    <tr>\n",
       "      <th>4</th>\n",
       "      <td>Armenia</td>\n",
       "      <td>8.016549</td>\n",
       "      <td>74.54</td>\n",
       "      <td>0</td>\n",
       "      <td>0</td>\n",
       "    </tr>\n",
       "    <tr>\n",
       "      <th>5</th>\n",
       "      <td>Aruba</td>\n",
       "      <td>10.036772</td>\n",
       "      <td>79.80</td>\n",
       "      <td>0</td>\n",
       "      <td>0</td>\n",
       "    </tr>\n",
       "  </tbody>\n",
       "</table>\n",
       "</div>"
      ],
      "text/plain": [
       "       Country      PPGDP  LifeExp  Group_africa  Group_oecd\n",
       "Row                                                         \n",
       "1      Albania   8.209907    75.31             0           0\n",
       "2     Anguilla   9.528801    79.19             0           0\n",
       "3    Argentina   9.122831    77.72             0           0\n",
       "4      Armenia   8.016549    74.54             0           0\n",
       "5        Aruba  10.036772    79.80             0           0"
      ]
     },
     "execution_count": 25,
     "metadata": {},
     "output_type": "execute_result"
    }
   ],
   "source": [
    "life_dummy = pd.get_dummies(life, columns=['Group'], dtype=int)\n",
    "life_dummy.drop('Group_other', axis=1, inplace=True)\n",
    "life_dummy.head()"
   ]
  },
  {
   "cell_type": "markdown",
   "id": "ff1eff5c",
   "metadata": {
    "id": "ff1eff5c"
   },
   "source": [
    "#### 7. Fit a multiple linear regression model to the data (no transformations, no interactions, etc.) using \"other\" as the baseline for group. Print a summary of the results. [1 point]"
   ]
  },
  {
   "cell_type": "code",
   "execution_count": 55,
   "id": "a40a1ba2",
   "metadata": {},
   "outputs": [
    {
     "data": {
      "text/html": [
       "<table class=\"simpletable\">\n",
       "<caption>OLS Regression Results</caption>\n",
       "<tr>\n",
       "  <th>Dep. Variable:</th>         <td>LifeExp</td>     <th>  R-squared:         </th> <td>   0.986</td> \n",
       "</tr>\n",
       "<tr>\n",
       "  <th>Model:</th>                   <td>OLS</td>       <th>  Adj. R-squared:    </th> <td>   0.986</td> \n",
       "</tr>\n",
       "<tr>\n",
       "  <th>Method:</th>             <td>Least Squares</td>  <th>  F-statistic:       </th> <td>   4080.</td> \n",
       "</tr>\n",
       "<tr>\n",
       "  <th>Date:</th>             <td>Wed, 30 Oct 2024</td> <th>  Prob (F-statistic):</th> <td>4.48e-163</td>\n",
       "</tr>\n",
       "<tr>\n",
       "  <th>Time:</th>                 <td>17:35:33</td>     <th>  Log-Likelihood:    </th> <td> -268.31</td> \n",
       "</tr>\n",
       "<tr>\n",
       "  <th>No. Observations:</th>      <td>   181</td>      <th>  AIC:               </th> <td>   544.6</td> \n",
       "</tr>\n",
       "<tr>\n",
       "  <th>Df Residuals:</th>          <td>   177</td>      <th>  BIC:               </th> <td>   557.4</td> \n",
       "</tr>\n",
       "<tr>\n",
       "  <th>Df Model:</th>              <td>     3</td>      <th>                     </th>     <td> </td>    \n",
       "</tr>\n",
       "<tr>\n",
       "  <th>Covariance Type:</th>      <td>nonrobust</td>    <th>                     </th>     <td> </td>    \n",
       "</tr>\n",
       "</table>\n",
       "<table class=\"simpletable\">\n",
       "<tr>\n",
       "        <td></td>          <th>coef</th>     <th>std err</th>      <th>t</th>      <th>P>|t|</th>  <th>[0.025</th>    <th>0.975]</th>  \n",
       "</tr>\n",
       "<tr>\n",
       "  <th>const</th>        <td>   50.9579</td> <td>    0.653</td> <td>   78.070</td> <td> 0.000</td> <td>   49.670</td> <td>   52.246</td>\n",
       "</tr>\n",
       "<tr>\n",
       "  <th>PPGDP</th>        <td>    2.8769</td> <td>    0.075</td> <td>   38.470</td> <td> 0.000</td> <td>    2.729</td> <td>    3.024</td>\n",
       "</tr>\n",
       "<tr>\n",
       "  <th>Group_africa</th> <td>  -12.2943</td> <td>    0.257</td> <td>  -47.789</td> <td> 0.000</td> <td>  -12.802</td> <td>  -11.787</td>\n",
       "</tr>\n",
       "<tr>\n",
       "  <th>Group_oecd</th>   <td>    1.5298</td> <td>    0.254</td> <td>    6.019</td> <td> 0.000</td> <td>    1.028</td> <td>    2.031</td>\n",
       "</tr>\n",
       "</table>\n",
       "<table class=\"simpletable\">\n",
       "<tr>\n",
       "  <th>Omnibus:</th>       <td> 0.441</td> <th>  Durbin-Watson:     </th> <td>   2.080</td>\n",
       "</tr>\n",
       "<tr>\n",
       "  <th>Prob(Omnibus):</th> <td> 0.802</td> <th>  Jarque-Bera (JB):  </th> <td>   0.333</td>\n",
       "</tr>\n",
       "<tr>\n",
       "  <th>Skew:</th>          <td> 0.105</td> <th>  Prob(JB):          </th> <td>   0.847</td>\n",
       "</tr>\n",
       "<tr>\n",
       "  <th>Kurtosis:</th>      <td> 3.015</td> <th>  Cond. No.          </th> <td>    75.0</td>\n",
       "</tr>\n",
       "</table><br/><br/>Notes:<br/>[1] Standard Errors assume that the covariance matrix of the errors is correctly specified."
      ],
      "text/latex": [
       "\\begin{center}\n",
       "\\begin{tabular}{lclc}\n",
       "\\toprule\n",
       "\\textbf{Dep. Variable:}    &     LifeExp      & \\textbf{  R-squared:         } &     0.986   \\\\\n",
       "\\textbf{Model:}            &       OLS        & \\textbf{  Adj. R-squared:    } &     0.986   \\\\\n",
       "\\textbf{Method:}           &  Least Squares   & \\textbf{  F-statistic:       } &     4080.   \\\\\n",
       "\\textbf{Date:}             & Wed, 30 Oct 2024 & \\textbf{  Prob (F-statistic):} & 4.48e-163   \\\\\n",
       "\\textbf{Time:}             &     17:35:33     & \\textbf{  Log-Likelihood:    } &   -268.31   \\\\\n",
       "\\textbf{No. Observations:} &         181      & \\textbf{  AIC:               } &     544.6   \\\\\n",
       "\\textbf{Df Residuals:}     &         177      & \\textbf{  BIC:               } &     557.4   \\\\\n",
       "\\textbf{Df Model:}         &           3      & \\textbf{                     } &             \\\\\n",
       "\\textbf{Covariance Type:}  &    nonrobust     & \\textbf{                     } &             \\\\\n",
       "\\bottomrule\n",
       "\\end{tabular}\n",
       "\\begin{tabular}{lcccccc}\n",
       "                       & \\textbf{coef} & \\textbf{std err} & \\textbf{t} & \\textbf{P$> |$t$|$} & \\textbf{[0.025} & \\textbf{0.975]}  \\\\\n",
       "\\midrule\n",
       "\\textbf{const}         &      50.9579  &        0.653     &    78.070  &         0.000        &       49.670    &       52.246     \\\\\n",
       "\\textbf{PPGDP}         &       2.8769  &        0.075     &    38.470  &         0.000        &        2.729    &        3.024     \\\\\n",
       "\\textbf{Group\\_africa} &     -12.2943  &        0.257     &   -47.789  &         0.000        &      -12.802    &      -11.787     \\\\\n",
       "\\textbf{Group\\_oecd}   &       1.5298  &        0.254     &     6.019  &         0.000        &        1.028    &        2.031     \\\\\n",
       "\\bottomrule\n",
       "\\end{tabular}\n",
       "\\begin{tabular}{lclc}\n",
       "\\textbf{Omnibus:}       &  0.441 & \\textbf{  Durbin-Watson:     } &    2.080  \\\\\n",
       "\\textbf{Prob(Omnibus):} &  0.802 & \\textbf{  Jarque-Bera (JB):  } &    0.333  \\\\\n",
       "\\textbf{Skew:}          &  0.105 & \\textbf{  Prob(JB):          } &    0.847  \\\\\n",
       "\\textbf{Kurtosis:}      &  3.015 & \\textbf{  Cond. No.          } &     75.0  \\\\\n",
       "\\bottomrule\n",
       "\\end{tabular}\n",
       "%\\caption{OLS Regression Results}\n",
       "\\end{center}\n",
       "\n",
       "Notes: \\newline\n",
       " [1] Standard Errors assume that the covariance matrix of the errors is correctly specified."
      ],
      "text/plain": [
       "<class 'statsmodels.iolib.summary.Summary'>\n",
       "\"\"\"\n",
       "                            OLS Regression Results                            \n",
       "==============================================================================\n",
       "Dep. Variable:                LifeExp   R-squared:                       0.986\n",
       "Model:                            OLS   Adj. R-squared:                  0.986\n",
       "Method:                 Least Squares   F-statistic:                     4080.\n",
       "Date:                Wed, 30 Oct 2024   Prob (F-statistic):          4.48e-163\n",
       "Time:                        17:35:33   Log-Likelihood:                -268.31\n",
       "No. Observations:                 181   AIC:                             544.6\n",
       "Df Residuals:                     177   BIC:                             557.4\n",
       "Df Model:                           3                                         \n",
       "Covariance Type:            nonrobust                                         \n",
       "================================================================================\n",
       "                   coef    std err          t      P>|t|      [0.025      0.975]\n",
       "--------------------------------------------------------------------------------\n",
       "const           50.9579      0.653     78.070      0.000      49.670      52.246\n",
       "PPGDP            2.8769      0.075     38.470      0.000       2.729       3.024\n",
       "Group_africa   -12.2943      0.257    -47.789      0.000     -12.802     -11.787\n",
       "Group_oecd       1.5298      0.254      6.019      0.000       1.028       2.031\n",
       "==============================================================================\n",
       "Omnibus:                        0.441   Durbin-Watson:                   2.080\n",
       "Prob(Omnibus):                  0.802   Jarque-Bera (JB):                0.333\n",
       "Skew:                           0.105   Prob(JB):                        0.847\n",
       "Kurtosis:                       3.015   Cond. No.                         75.0\n",
       "==============================================================================\n",
       "\n",
       "Notes:\n",
       "[1] Standard Errors assume that the covariance matrix of the errors is correctly specified.\n",
       "\"\"\""
      ]
     },
     "execution_count": 55,
     "metadata": {},
     "output_type": "execute_result"
    }
   ],
   "source": [
    "# Define the variables\n",
    "X = sm.add_constant(life_dummy[['PPGDP', 'Group_africa', 'Group_oecd']])\n",
    "y = life_dummy['LifeExp']\n",
    "\n",
    "# Fit the model\n",
    "model = sm.OLS(y, X)\n",
    "res = model.fit()\n",
    "\n",
    "res.summary()"
   ]
  },
  {
   "cell_type": "markdown",
   "id": "0bea3d60",
   "metadata": {
    "id": "0bea3d60"
   },
   "source": [
    "#### 8. Briefly interpret the intercept (like we did in class). **Note that you will need to use the word \"average\" (or similar) twice since you are predicting an average already.** You will need to do this (say average twice) here and with the questions that follow when interpreting. [2 points]\n"
   ]
  },
  {
   "cell_type": "markdown",
   "id": "90404276",
   "metadata": {
    "id": "90404276"
   },
   "source": [
    "On average, when the `PPGPDP` is 0, and the `Group` is other, the average life expectancy is 50.96 years old."
   ]
  },
  {
   "cell_type": "markdown",
   "id": "dbef4ccf",
   "metadata": {
    "id": "dbef4ccf"
   },
   "source": [
    "\n",
    "#### 9. Briefly interpret the coefficient for PPGDP (log scale) (like we did in class). You do not need to un-transform anything - you can just write something like \"per person GDP (log scale)\" in your response. [2 points]\n"
   ]
  },
  {
   "cell_type": "markdown",
   "id": "3287926b",
   "metadata": {
    "id": "3287926b"
   },
   "source": [
    "\n",
    "Holding Group constant, on average, for every 1 unit increase in `PPGDP`, the average life expectancy increases by 2.8769.\n",
    "\n",
    "(More accurately: \n",
    "Holding Group constant, on average, for every 1% increase in `PPGDP`, the average life expectancy increases by 0.028769.)"
   ]
  },
  {
   "cell_type": "markdown",
   "id": "e5552fe9",
   "metadata": {
    "id": "e5552fe9"
   },
   "source": [
    "\n",
    "#### 10. For equal per person GDP (log scale), how does life expectancy change for countries that are members of the OECD compared to countries that are on the African continent? Show how you obtained this number, and briefly interpret this number (like we did in class). [2 points]\n"
   ]
  },
  {
   "cell_type": "code",
   "execution_count": 69,
   "id": "d855b0e3",
   "metadata": {},
   "outputs": [
    {
     "data": {
      "text/plain": [
       "13.824099337986645"
      ]
     },
     "execution_count": 69,
     "metadata": {},
     "output_type": "execute_result"
    }
   ],
   "source": [
    "res.params['Group_oecd']-res.params['Group_africa']"
   ]
  },
  {
   "cell_type": "markdown",
   "id": "686f67c6",
   "metadata": {
    "id": "686f67c6"
   },
   "source": [
    "For equal per person GDP (log scale), the life expectancy in OECD countries is about 13.82 years higher compared to countries on the African continent. This suggests that, despite similar economic conditions in terms of GDP, countries in the OECD tend to have significantly better life expectancies compared to African countries, likely due to factors beyond GDP, such as healthcare, education, and infrastructure. (This was obtained with the code above, subtracting the coefficient for Africa and the coefficient for OECD.)"
   ]
  },
  {
   "cell_type": "markdown",
   "id": "1d30f600",
   "metadata": {
    "id": "1d30f600"
   },
   "source": [
    "#### 11. Briefly interpret the 95% confidence interval for I(Group=Africa). [2 points]\n"
   ]
  },
  {
   "cell_type": "markdown",
   "id": "72b02478",
   "metadata": {
    "id": "72b02478"
   },
   "source": [
    "We are 95% confident that countries in Africa have, on average, a Life Expectancy between -12.802 and -11.787 years lower than countries that are part of the other category."
   ]
  },
  {
   "cell_type": "markdown",
   "id": "bfab2a40",
   "metadata": {
    "id": "bfab2a40"
   },
   "source": [
    "#### 12. Use the `anova_lm` function from statsmodels to conduct a hypothesis test that tests if Group as a whole has a significant effect on LifeExp. What do you conclude from the result of the test? Hint: you will need to create another linear model and compare it with the one you made previously. [2 points]"
   ]
  },
  {
   "cell_type": "code",
   "execution_count": 40,
   "id": "886635c8",
   "metadata": {},
   "outputs": [
    {
     "data": {
      "text/html": [
       "<div>\n",
       "<style scoped>\n",
       "    .dataframe tbody tr th:only-of-type {\n",
       "        vertical-align: middle;\n",
       "    }\n",
       "\n",
       "    .dataframe tbody tr th {\n",
       "        vertical-align: top;\n",
       "    }\n",
       "\n",
       "    .dataframe thead th {\n",
       "        text-align: right;\n",
       "    }\n",
       "</style>\n",
       "<table border=\"1\" class=\"dataframe\">\n",
       "  <thead>\n",
       "    <tr style=\"text-align: right;\">\n",
       "      <th></th>\n",
       "      <th>df_resid</th>\n",
       "      <th>ssr</th>\n",
       "      <th>df_diff</th>\n",
       "      <th>ss_diff</th>\n",
       "      <th>F</th>\n",
       "      <th>Pr(&gt;F)</th>\n",
       "    </tr>\n",
       "  </thead>\n",
       "  <tbody>\n",
       "    <tr>\n",
       "      <th>0</th>\n",
       "      <td>179.0</td>\n",
       "      <td>2858.842765</td>\n",
       "      <td>0.0</td>\n",
       "      <td>NaN</td>\n",
       "      <td>NaN</td>\n",
       "      <td>NaN</td>\n",
       "    </tr>\n",
       "    <tr>\n",
       "      <th>1</th>\n",
       "      <td>177.0</td>\n",
       "      <td>205.477622</td>\n",
       "      <td>2.0</td>\n",
       "      <td>2653.365143</td>\n",
       "      <td>1142.814545</td>\n",
       "      <td>6.409470e-102</td>\n",
       "    </tr>\n",
       "  </tbody>\n",
       "</table>\n",
       "</div>"
      ],
      "text/plain": [
       "   df_resid          ssr  df_diff      ss_diff            F         Pr(>F)\n",
       "0     179.0  2858.842765      0.0          NaN          NaN            NaN\n",
       "1     177.0   205.477622      2.0  2653.365143  1142.814545  6.409470e-102"
      ]
     },
     "execution_count": 40,
     "metadata": {},
     "output_type": "execute_result"
    }
   ],
   "source": [
    "# Create another linear model without the Group variables\n",
    "X_no_group = sm.add_constant(life_dummy[['PPGDP']])\n",
    "res_no_group = sm.OLS(y, X_no_group).fit()\n",
    "\n",
    "# Conduct the ANOVA test\n",
    "anova_lm(res_no_group, res)"
   ]
  },
  {
   "cell_type": "markdown",
   "id": "990e2ce3",
   "metadata": {
    "id": "990e2ce3"
   },
   "source": [
    "Based on the results of the ANOVA test, we conclude that `Group` has a highly significant effect on life expectancy. The p-value is effectively zero, meaning there is very strong evidence that countries' group membership (whether they are in the OECD, Africa, or the baseline group) significantly influences life expectancy, even when controlling for GDP."
   ]
  },
  {
   "cell_type": "markdown",
   "id": "8f599797",
   "metadata": {
    "id": "8f599797"
   },
   "source": [
    "\n",
    "#### 13. Create a 95% prediction interval for the average life expectancy of a country in the OECD with an average per person GDP (log scale) of 9.5. Print the result, and briefly interpret this interval (like we did in class). (Use the `get_prediction` function on the `OLS` object.) [2 points]"
   ]
  },
  {
   "cell_type": "code",
   "execution_count": 35,
   "id": "8ab8299d",
   "metadata": {},
   "outputs": [
    {
     "data": {
      "text/html": [
       "<div>\n",
       "<style scoped>\n",
       "    .dataframe tbody tr th:only-of-type {\n",
       "        vertical-align: middle;\n",
       "    }\n",
       "\n",
       "    .dataframe tbody tr th {\n",
       "        vertical-align: top;\n",
       "    }\n",
       "\n",
       "    .dataframe thead th {\n",
       "        text-align: right;\n",
       "    }\n",
       "</style>\n",
       "<table border=\"1\" class=\"dataframe\">\n",
       "  <thead>\n",
       "    <tr style=\"text-align: right;\">\n",
       "      <th></th>\n",
       "      <th>obs_ci_lower</th>\n",
       "      <th>obs_ci_upper</th>\n",
       "    </tr>\n",
       "  </thead>\n",
       "  <tbody>\n",
       "    <tr>\n",
       "      <th>0</th>\n",
       "      <td>77.654243</td>\n",
       "      <td>81.982328</td>\n",
       "    </tr>\n",
       "  </tbody>\n",
       "</table>\n",
       "</div>"
      ],
      "text/plain": [
       "   obs_ci_lower  obs_ci_upper\n",
       "0     77.654243     81.982328"
      ]
     },
     "execution_count": 35,
     "metadata": {},
     "output_type": "execute_result"
    }
   ],
   "source": [
    "# Define the new data point for prediction\n",
    "new_data = pd.DataFrame({'const': [1], 'PPGDP': [9.5], 'Group_africa': [0], 'Group_oecd': [1]})\n",
    "\n",
    "# Get the prediction interval\n",
    "prediction = res.get_prediction(new_data)\n",
    "prediction_summary = prediction.summary_frame(alpha=0.05)\n",
    "\n",
    "# Print the prediction interval\n",
    "prediction_summary[['obs_ci_lower', 'obs_ci_upper']]"
   ]
  },
  {
   "cell_type": "markdown",
   "id": "ab54429c",
   "metadata": {
    "id": "ab54429c"
   },
   "source": [
    "We are 95% confident that a new observation of life expectancy for a country with the same values of predictors (`PPGDP` = 9.5, `Group` = OECD) will fall between 77.65 years and 81.98 years."
   ]
  },
  {
   "cell_type": "markdown",
   "id": "ca3bf366",
   "metadata": {
    "id": "ca3bf366"
   },
   "source": [
    "#### 14. Plot the fitted model on the scatterplot with the two continuous variables on the axes, colored by the categorical variable. Hint: you should have 3 different lines on your plot, and you will *not* need to have different line types or point shapes (you *will* need to have different colors). [1 point]\n"
   ]
  },
  {
   "cell_type": "code",
   "execution_count": 59,
   "id": "55539205",
   "metadata": {
    "id": "55539205"
   },
   "outputs": [
    {
     "data": {
      "image/png": "[encoded data removed]",
      "text/plain": [
       "<Figure size 400x400 with 1 Axes>"
      ]
     },
     "metadata": {},
     "output_type": "display_data"
    }
   ],
   "source": [
    "sns.set_style(\"white\")\n",
    "plt.figure(figsize = (4, 4))\n",
    "sns.scatterplot(data = life, \n",
    "                x = 'PPGDP', \n",
    "                y = 'LifeExp', \n",
    "                hue = 'Group')\n",
    "sns.lineplot(x = life['PPGDP'],\n",
    "             y = res.fittedvalues,\n",
    "             hue = life['Group'], \n",
    "             legend = False)\n",
    "plt.xlabel('PPGDP')\n",
    "plt.ylabel('Life Expectancy')\n",
    "plt.title('Fitted Model: Life Expectancy vs. PPGDP by Region')\n",
    "plt.legend(loc = 'upper right', bbox_to_anchor = (1.45, 1.02))\n",
    "plt.show()"
   ]
  },
  {
   "cell_type": "markdown",
   "id": "9cc4395d",
   "metadata": {
    "id": "9cc4395d"
   },
   "source": [
    "#### 15. Fit a multiple linear regression model to the data **using the dummy variables you created**, and include an interaction term between PPGDP and Group. *USE \"other\" AS THE BASELINE CATEGORY FOR GROUP*. Print a summary of the results. [1 point]"
   ]
  },
  {
   "cell_type": "code",
   "execution_count": 54,
   "id": "5e8c74da",
   "metadata": {
    "attributes": {
     "classes": [],
     "fig.align": "'center'",
     "id": ""
    },
    "id": "5e8c74da"
   },
   "outputs": [
    {
     "data": {
      "text/html": [
       "<table class=\"simpletable\">\n",
       "<caption>OLS Regression Results</caption>\n",
       "<tr>\n",
       "  <th>Dep. Variable:</th>         <td>LifeExp</td>     <th>  R-squared:         </th> <td>   0.986</td> \n",
       "</tr>\n",
       "<tr>\n",
       "  <th>Model:</th>                   <td>OLS</td>       <th>  Adj. R-squared:    </th> <td>   0.986</td> \n",
       "</tr>\n",
       "<tr>\n",
       "  <th>Method:</th>             <td>Least Squares</td>  <th>  F-statistic:       </th> <td>   2551.</td> \n",
       "</tr>\n",
       "<tr>\n",
       "  <th>Date:</th>             <td>Wed, 30 Oct 2024</td> <th>  Prob (F-statistic):</th> <td>1.98e-161</td>\n",
       "</tr>\n",
       "<tr>\n",
       "  <th>Time:</th>                 <td>17:32:15</td>     <th>  Log-Likelihood:    </th> <td> -263.63</td> \n",
       "</tr>\n",
       "<tr>\n",
       "  <th>No. Observations:</th>      <td>   181</td>      <th>  AIC:               </th> <td>   539.3</td> \n",
       "</tr>\n",
       "<tr>\n",
       "  <th>Df Residuals:</th>          <td>   175</td>      <th>  BIC:               </th> <td>   558.4</td> \n",
       "</tr>\n",
       "<tr>\n",
       "  <th>Df Model:</th>              <td>     5</td>      <th>                     </th>     <td> </td>    \n",
       "</tr>\n",
       "<tr>\n",
       "  <th>Covariance Type:</th>      <td>nonrobust</td>    <th>                     </th>     <td> </td>    \n",
       "</tr>\n",
       "</table>\n",
       "<table class=\"simpletable\">\n",
       "<tr>\n",
       "           <td></td>             <th>coef</th>     <th>std err</th>      <th>t</th>      <th>P>|t|</th>  <th>[0.025</th>    <th>0.975]</th>  \n",
       "</tr>\n",
       "<tr>\n",
       "  <th>const</th>              <td>   50.4240</td> <td>    0.713</td> <td>   70.734</td> <td> 0.000</td> <td>   49.017</td> <td>   51.831</td>\n",
       "</tr>\n",
       "<tr>\n",
       "  <th>Group_africa</th>       <td>  -11.8951</td> <td>    1.475</td> <td>   -8.063</td> <td> 0.000</td> <td>  -14.807</td> <td>   -8.983</td>\n",
       "</tr>\n",
       "<tr>\n",
       "  <th>Group_oecd</th>         <td>   11.2920</td> <td>    3.213</td> <td>    3.514</td> <td> 0.001</td> <td>    4.950</td> <td>   17.634</td>\n",
       "</tr>\n",
       "<tr>\n",
       "  <th>PPGDP</th>              <td>    2.9388</td> <td>    0.082</td> <td>   35.896</td> <td> 0.000</td> <td>    2.777</td> <td>    3.100</td>\n",
       "</tr>\n",
       "<tr>\n",
       "  <th>PPGDP_Group_africa</th> <td>   -0.0413</td> <td>    0.212</td> <td>   -0.194</td> <td> 0.846</td> <td>   -0.461</td> <td>    0.378</td>\n",
       "</tr>\n",
       "<tr>\n",
       "  <th>PPGDP_Group_oecd</th>   <td>   -0.9527</td> <td>    0.313</td> <td>   -3.046</td> <td> 0.003</td> <td>   -1.570</td> <td>   -0.335</td>\n",
       "</tr>\n",
       "</table>\n",
       "<table class=\"simpletable\">\n",
       "<tr>\n",
       "  <th>Omnibus:</th>       <td> 0.578</td> <th>  Durbin-Watson:     </th> <td>   2.155</td>\n",
       "</tr>\n",
       "<tr>\n",
       "  <th>Prob(Omnibus):</th> <td> 0.749</td> <th>  Jarque-Bera (JB):  </th> <td>   0.381</td>\n",
       "</tr>\n",
       "<tr>\n",
       "  <th>Skew:</th>          <td> 0.105</td> <th>  Prob(JB):          </th> <td>   0.827</td>\n",
       "</tr>\n",
       "<tr>\n",
       "  <th>Kurtosis:</th>      <td> 3.078</td> <th>  Cond. No.          </th> <td>    374.</td>\n",
       "</tr>\n",
       "</table><br/><br/>Notes:<br/>[1] Standard Errors assume that the covariance matrix of the errors is correctly specified."
      ],
      "text/latex": [
       "\\begin{center}\n",
       "\\begin{tabular}{lclc}\n",
       "\\toprule\n",
       "\\textbf{Dep. Variable:}       &     LifeExp      & \\textbf{  R-squared:         } &     0.986   \\\\\n",
       "\\textbf{Model:}               &       OLS        & \\textbf{  Adj. R-squared:    } &     0.986   \\\\\n",
       "\\textbf{Method:}              &  Least Squares   & \\textbf{  F-statistic:       } &     2551.   \\\\\n",
       "\\textbf{Date:}                & Wed, 30 Oct 2024 & \\textbf{  Prob (F-statistic):} & 1.98e-161   \\\\\n",
       "\\textbf{Time:}                &     17:32:15     & \\textbf{  Log-Likelihood:    } &   -263.63   \\\\\n",
       "\\textbf{No. Observations:}    &         181      & \\textbf{  AIC:               } &     539.3   \\\\\n",
       "\\textbf{Df Residuals:}        &         175      & \\textbf{  BIC:               } &     558.4   \\\\\n",
       "\\textbf{Df Model:}            &           5      & \\textbf{                     } &             \\\\\n",
       "\\textbf{Covariance Type:}     &    nonrobust     & \\textbf{                     } &             \\\\\n",
       "\\bottomrule\n",
       "\\end{tabular}\n",
       "\\begin{tabular}{lcccccc}\n",
       "                              & \\textbf{coef} & \\textbf{std err} & \\textbf{t} & \\textbf{P$> |$t$|$} & \\textbf{[0.025} & \\textbf{0.975]}  \\\\\n",
       "\\midrule\n",
       "\\textbf{const}                &      50.4240  &        0.713     &    70.734  &         0.000        &       49.017    &       51.831     \\\\\n",
       "\\textbf{Group\\_africa}        &     -11.8951  &        1.475     &    -8.063  &         0.000        &      -14.807    &       -8.983     \\\\\n",
       "\\textbf{Group\\_oecd}          &      11.2920  &        3.213     &     3.514  &         0.001        &        4.950    &       17.634     \\\\\n",
       "\\textbf{PPGDP}                &       2.9388  &        0.082     &    35.896  &         0.000        &        2.777    &        3.100     \\\\\n",
       "\\textbf{PPGDP\\_Group\\_africa} &      -0.0413  &        0.212     &    -0.194  &         0.846        &       -0.461    &        0.378     \\\\\n",
       "\\textbf{PPGDP\\_Group\\_oecd}   &      -0.9527  &        0.313     &    -3.046  &         0.003        &       -1.570    &       -0.335     \\\\\n",
       "\\bottomrule\n",
       "\\end{tabular}\n",
       "\\begin{tabular}{lclc}\n",
       "\\textbf{Omnibus:}       &  0.578 & \\textbf{  Durbin-Watson:     } &    2.155  \\\\\n",
       "\\textbf{Prob(Omnibus):} &  0.749 & \\textbf{  Jarque-Bera (JB):  } &    0.381  \\\\\n",
       "\\textbf{Skew:}          &  0.105 & \\textbf{  Prob(JB):          } &    0.827  \\\\\n",
       "\\textbf{Kurtosis:}      &  3.078 & \\textbf{  Cond. No.          } &     374.  \\\\\n",
       "\\bottomrule\n",
       "\\end{tabular}\n",
       "%\\caption{OLS Regression Results}\n",
       "\\end{center}\n",
       "\n",
       "Notes: \\newline\n",
       " [1] Standard Errors assume that the covariance matrix of the errors is correctly specified."
      ],
      "text/plain": [
       "<class 'statsmodels.iolib.summary.Summary'>\n",
       "\"\"\"\n",
       "                            OLS Regression Results                            \n",
       "==============================================================================\n",
       "Dep. Variable:                LifeExp   R-squared:                       0.986\n",
       "Model:                            OLS   Adj. R-squared:                  0.986\n",
       "Method:                 Least Squares   F-statistic:                     2551.\n",
       "Date:                Wed, 30 Oct 2024   Prob (F-statistic):          1.98e-161\n",
       "Time:                        17:32:15   Log-Likelihood:                -263.63\n",
       "No. Observations:                 181   AIC:                             539.3\n",
       "Df Residuals:                     175   BIC:                             558.4\n",
       "Df Model:                           5                                         \n",
       "Covariance Type:            nonrobust                                         \n",
       "======================================================================================\n",
       "                         coef    std err          t      P>|t|      [0.025      0.975]\n",
       "--------------------------------------------------------------------------------------\n",
       "const                 50.4240      0.713     70.734      0.000      49.017      51.831\n",
       "Group_africa         -11.8951      1.475     -8.063      0.000     -14.807      -8.983\n",
       "Group_oecd            11.2920      3.213      3.514      0.001       4.950      17.634\n",
       "PPGDP                  2.9388      0.082     35.896      0.000       2.777       3.100\n",
       "PPGDP_Group_africa    -0.0413      0.212     -0.194      0.846      -0.461       0.378\n",
       "PPGDP_Group_oecd      -0.9527      0.313     -3.046      0.003      -1.570      -0.335\n",
       "==============================================================================\n",
       "Omnibus:                        0.578   Durbin-Watson:                   2.155\n",
       "Prob(Omnibus):                  0.749   Jarque-Bera (JB):                0.381\n",
       "Skew:                           0.105   Prob(JB):                        0.827\n",
       "Kurtosis:                       3.078   Cond. No.                         374.\n",
       "==============================================================================\n",
       "\n",
       "Notes:\n",
       "[1] Standard Errors assume that the covariance matrix of the errors is correctly specified.\n",
       "\"\"\""
      ]
     },
     "execution_count": 54,
     "metadata": {},
     "output_type": "execute_result"
    }
   ],
   "source": [
    "life_dummy['PPGDP_Group_africa'] = life_dummy['Group_africa'] * life_dummy['PPGDP']\n",
    "life_dummy['PPGDP_Group_oecd'] = life_dummy['Group_oecd'] * life_dummy['PPGDP']\n",
    "\n",
    "y = life_dummy['LifeExp']\n",
    "X_inter = sm.add_constant(life_dummy[['Group_africa', 'Group_oecd', \n",
    "                                        'PPGDP',\n",
    "                                        'PPGDP_Group_africa',\n",
    "                                        'PPGDP_Group_oecd']])\n",
    "mod_inter = sm.OLS(y, X_inter)\n",
    "res_inter = mod_inter.fit()\n",
    "res_inter.summary()"
   ]
  },
  {
   "cell_type": "markdown",
   "id": "7a399e25",
   "metadata": {
    "id": "7a399e25"
   },
   "source": [
    "#### 16. Write out the fitted model (using coefficients values from above) for a model with PPGDP, Group, and an interaction between PPGDG and Group. Remember, you will need to use dummy variables for Group. **USE \"other\" AS THE BASELINE CATEGORY**. Use variable names that are descriptive (not $y$, $x_1$, etc.). [3 points]\n"
   ]
  },
  {
   "cell_type": "markdown",
   "id": "ed492c57",
   "metadata": {
    "vscode": {
     "languageId": "tex"
    }
   },
   "source": [
    "$$ \\hat{\\text{LifeExp}}_i = 50.96 + 2.8769 \\text{PPGDP}_i - 12.294 \\text{Group\\_africa}_i + 1.526 \\text{Group\\_oecd}_i - 0.876 (\\text{PPGDP}_i \\times \\text{Group\\_africa}_i) + 0.456 (\\text{PPGDP}_i \\times \\text{Group\\_oecd}_i) $$"
   ]
  },
  {
   "cell_type": "markdown",
   "id": "3df377d0",
   "metadata": {
    "id": "3df377d0"
   },
   "source": [
    "#### 17. Use the `anova_lm` function from statsmodels to test if the overall interaction between PPGDP and Group is significant. Print the result. What do you conclude? [2 points]"
   ]
  },
  {
   "cell_type": "code",
   "execution_count": 56,
   "id": "a9a4a6d2",
   "metadata": {
    "id": "a9a4a6d2"
   },
   "outputs": [
    {
     "data": {
      "text/html": [
       "<div>\n",
       "<style scoped>\n",
       "    .dataframe tbody tr th:only-of-type {\n",
       "        vertical-align: middle;\n",
       "    }\n",
       "\n",
       "    .dataframe tbody tr th {\n",
       "        vertical-align: top;\n",
       "    }\n",
       "\n",
       "    .dataframe thead th {\n",
       "        text-align: right;\n",
       "    }\n",
       "</style>\n",
       "<table border=\"1\" class=\"dataframe\">\n",
       "  <thead>\n",
       "    <tr style=\"text-align: right;\">\n",
       "      <th></th>\n",
       "      <th>df_resid</th>\n",
       "      <th>ssr</th>\n",
       "      <th>df_diff</th>\n",
       "      <th>ss_diff</th>\n",
       "      <th>F</th>\n",
       "      <th>Pr(&gt;F)</th>\n",
       "    </tr>\n",
       "  </thead>\n",
       "  <tbody>\n",
       "    <tr>\n",
       "      <th>0</th>\n",
       "      <td>177.0</td>\n",
       "      <td>205.477622</td>\n",
       "      <td>0.0</td>\n",
       "      <td>NaN</td>\n",
       "      <td>NaN</td>\n",
       "      <td>NaN</td>\n",
       "    </tr>\n",
       "    <tr>\n",
       "      <th>1</th>\n",
       "      <td>175.0</td>\n",
       "      <td>195.120227</td>\n",
       "      <td>2.0</td>\n",
       "      <td>10.357395</td>\n",
       "      <td>4.644685</td>\n",
       "      <td>0.010828</td>\n",
       "    </tr>\n",
       "  </tbody>\n",
       "</table>\n",
       "</div>"
      ],
      "text/plain": [
       "   df_resid         ssr  df_diff    ss_diff         F    Pr(>F)\n",
       "0     177.0  205.477622      0.0        NaN       NaN       NaN\n",
       "1     175.0  195.120227      2.0  10.357395  4.644685  0.010828"
      ]
     },
     "execution_count": 56,
     "metadata": {},
     "output_type": "execute_result"
    }
   ],
   "source": [
    "anova_lm(res,res_inter)"
   ]
  },
  {
   "cell_type": "markdown",
   "id": "1dfb6a24",
   "metadata": {
    "id": "1dfb6a24"
   },
   "source": [
    "Based on the results of the ANOVA test, we conclude that the interaction of `PPGDP` and `Group` have a highly significant effect on life expectancy. The p-value is 0.01 (less than alpha=0.05), meaning there is very strong evidence that the interaction between the countries' group membership and PPGDP significantly influences life expectancy, compared to a model without the interaction."
   ]
  },
  {
   "cell_type": "markdown",
   "id": "c7851a45",
   "metadata": {
    "id": "c7851a45"
   },
   "source": [
    "#### 18. Plot the fitted model (with the interaction included) on the scatterplot with the two continuous variables on the axes, colored by the categorical variable. Hint: you should have 3 different lines on your plot, and you will *not* need to have different line types or point shapes (you *will* need to have different colors). [1 point]"
   ]
  },
  {
   "cell_type": "code",
   "execution_count": 60,
   "id": "e47a6f0c",
   "metadata": {
    "attributes": {
     "classes": [],
     "fig.align": "'center'",
     "id": ""
    },
    "id": "e47a6f0c"
   },
   "outputs": [
    {
     "data": {
      "image/png": "[encoded data removed]",
      "text/plain": [
       "<Figure size 400x400 with 1 Axes>"
      ]
     },
     "metadata": {},
     "output_type": "display_data"
    }
   ],
   "source": [
    "sns.set_style(\"white\")\n",
    "plt.figure(figsize = (4, 4))\n",
    "sns.scatterplot(data = life, \n",
    "                x = 'PPGDP', \n",
    "                y = 'LifeExp', \n",
    "                hue = 'Group')\n",
    "sns.lineplot(x = life['PPGDP'],\n",
    "             y = res_inter.fittedvalues,\n",
    "             hue = life['Group'], \n",
    "             legend = False)\n",
    "plt.xlabel('PPGDP')\n",
    "plt.ylabel('Life Expectancy')\n",
    "plt.title('Fitted Model: Life Expectancy vs. PPGDP by Region')\n",
    "plt.legend(loc = 'upper right', bbox_to_anchor = (1.45, 1.02))\n",
    "plt.show()"
   ]
  },
  {
   "cell_type": "markdown",
   "id": "3d12b201",
   "metadata": {
    "id": "3d12b201"
   },
   "source": [
    "#### 19. How did the fitted lines change when you included an interaction term compared with when you did not include an interaction term? [1 point]\n"
   ]
  },
  {
   "cell_type": "markdown",
   "id": "d6346fb0",
   "metadata": {
    "id": "d6346fb0"
   },
   "source": [
    "The line for Africa and other appear to be exactly the same, but the line for OECD has changed. While the Africa and other line are parallel (as were all three in the original), the OECD line is less positive than the other two lines."
   ]
  },
  {
   "cell_type": "markdown",
   "id": "1a11f4e4",
   "metadata": {
    "id": "1a11f4e4"
   },
   "source": [
    "#### 20. What is the effect of PPGDP on LifeExp for countries in a country other than those in the OECD or Africa (i.e. in the \"other\" category)? You should report a number in a complete sentence (as done in class toward the end of the notes). Since this is a continuous-categorical interaction, and since we are focusing on the effect of the continuous variable, you should use the \"one unit increase\" terminology in your response. [2 points]"
   ]
  },
  {
   "cell_type": "code",
   "execution_count": 64,
   "id": "4b72f18f",
   "metadata": {},
   "outputs": [
    {
     "data": {
      "text/plain": [
       "2.938817840245774"
      ]
     },
     "execution_count": 64,
     "metadata": {},
     "output_type": "execute_result"
    }
   ],
   "source": [
    "# Extract the coefficient for PPGDP from the regression results\n",
    "res_inter.params['PPGDP']"
   ]
  },
  {
   "cell_type": "markdown",
   "id": "091eb07b",
   "metadata": {
    "id": "091eb07b"
   },
   "source": [
    "For countries in the `Group_other` category, that is *not* in Africa or OECD, a one-unit increase in PPGDP is associated with an increase in Life Expectancy of 2.939 years, assuming all other variables remain constant."
   ]
  },
  {
   "cell_type": "markdown",
   "id": "585ef9b9",
   "metadata": {
    "id": "585ef9b9"
   },
   "source": [
    "#### 21. What is the effect of PPGDP on LifeExp for countries in the OECD? You should report a number in a complete sentence (as done in class toward the end of the notes). Since this is a continuous-categorical interaction, and since we are focusing on the effect of the continuous variable, you should use the \"one unit increase\" terminology in your response. [2 points]"
   ]
  },
  {
   "cell_type": "code",
   "execution_count": 65,
   "id": "9422fff5",
   "metadata": {},
   "outputs": [
    {
     "data": {
      "text/plain": [
       "1.986141479852966"
      ]
     },
     "execution_count": 65,
     "metadata": {},
     "output_type": "execute_result"
    }
   ],
   "source": [
    "# Calculate the effect of PPGDP on LifeExp for countries in the OECD\n",
    "res_inter.params['PPGDP'] + res_inter.params['PPGDP_Group_oecd']"
   ]
  },
  {
   "cell_type": "markdown",
   "id": "56c4c3d0",
   "metadata": {
    "id": "56c4c3d0"
   },
   "source": [
    "For countries in the `Group_oecd` category, a one-unit increase in PPGDP is associated with an increase in Life Expectancy of 1.986 years, assuming all other variables remain constant."
   ]
  },
  {
   "cell_type": "markdown",
   "id": "43a9e61f",
   "metadata": {
    "id": "43a9e61f"
   },
   "source": [
    "#### 22. What is the effect of PPGDP on LifeExp for countries in Africa? You should report a number in a complete sentence (as done in class toward the end of the notes). Since this is a continuous-categorical interaction, and since we are focusing on the effect of the continuous variable, you should use the \"one unit increase\" terminology in your response. [2 points]"
   ]
  },
  {
   "cell_type": "code",
   "execution_count": 66,
   "id": "870ca0fe",
   "metadata": {
    "attributes": {
     "classes": [],
     "fig.align": "'center'",
     "id": ""
    },
    "id": "870ca0fe"
   },
   "outputs": [
    {
     "data": {
      "text/plain": [
       "2.8975368946600204"
      ]
     },
     "execution_count": 66,
     "metadata": {},
     "output_type": "execute_result"
    }
   ],
   "source": [
    "# Calculate the effect of PPGDP on LifeExp for countries in the Africa\n",
    "res_inter.params['PPGDP'] + res_inter.params['PPGDP_Group_africa']"
   ]
  },
  {
   "cell_type": "markdown",
   "id": "0bfc1c99",
   "metadata": {
    "id": "0bfc1c99"
   },
   "source": [
    "For countries in the `Group_africa` category, a one-unit increase in `PPGDP` is associated with an increase in Life Expectancy of 2.898, assuming all other variables remain constant."
   ]
  },
  {
   "cell_type": "markdown",
   "id": "f3d234fd",
   "metadata": {
    "id": "f3d234fd"
   },
   "source": [
    "#### 23. What is the effect of belonging to the OECD on LifeExp for countries with a PPGDP of 9? You should report a number in a complete sentence (as done in class toward the end of the notes). [2 points]"
   ]
  },
  {
   "cell_type": "code",
   "execution_count": 67,
   "id": "5fb02002",
   "metadata": {},
   "outputs": [
    {
     "data": {
      "text/plain": [
       "2.717927219907331"
      ]
     },
     "execution_count": 67,
     "metadata": {},
     "output_type": "execute_result"
    }
   ],
   "source": [
    "# Calculate the effect of belonging to the OECD on LifeExp for countries with a PPGDP of 9\n",
    "res_inter.params['Group_oecd'] + res_inter.params['PPGDP_Group_oecd'] * 9"
   ]
  },
  {
   "cell_type": "markdown",
   "id": "3492bd71",
   "metadata": {
    "id": "3492bd71"
   },
   "source": [
    "For countries with a PPGDP of 9, belonging to the OECD is associated with an increase in Life Expectancy of 2.718 years, assuming all other factors remain constant."
   ]
  },
  {
   "cell_type": "markdown",
   "id": "2d51eb79",
   "metadata": {
    "id": "2d51eb79"
   },
   "source": [
    "#### 24. What is the effect of belonging to the OECD on LifeExp for countries with a PPGDP of 11? You should report a number in a complete sentence (as done in class toward the end of the notes). [2 points]"
   ]
  },
  {
   "cell_type": "code",
   "execution_count": 68,
   "id": "c036c2f9",
   "metadata": {
    "attributes": {
     "classes": [],
     "fig.align": "'center'",
     "id": ""
    },
    "id": "c036c2f9"
   },
   "outputs": [
    {
     "data": {
      "text/plain": [
       "0.8125744991217143"
      ]
     },
     "execution_count": 68,
     "metadata": {},
     "output_type": "execute_result"
    }
   ],
   "source": [
    "# Calculate the effect of belonging to the OECD on LifeExp for countries with a PPGDP of 9\n",
    "res_inter.params['Group_oecd'] + res_inter.params['PPGDP_Group_oecd'] * 11"
   ]
  },
  {
   "cell_type": "markdown",
   "id": "0f2b9678",
   "metadata": {
    "id": "0f2b9678"
   },
   "source": [
    "For countries with a PPGDP of 11, belonging to the OECD is associated with an increase in Life Expectancy of 0.813 years, assuming all other factors remain constant."
   ]
  },
  {
   "cell_type": "markdown",
   "id": "df081a29",
   "metadata": {
    "id": "df081a29"
   },
   "source": [
    "#### 25. Briefly summarize what you learned from this analysis *to a non-statistician*. Write a few sentences about (1) the purpose of this data set and analysis and (2) what you learned about this data set from your analysis. Write your response as if you were addressing a business manager (avoid using statistics jargon) and just provide the main take-aways. [1 point]\n"
   ]
  },
  {
   "cell_type": "markdown",
   "id": "a70a5cd0",
   "metadata": {
    "id": "a70a5cd0"
   },
   "source": [
    "In the analysis, we were looking to understand the relationship between economic well-being (represented by per Person GDP, PPGDP) and life expectancy across different countries. We investigated whether countries that are members of the Organization for Economic Co-operation and Development (OECD) or are part of the continent of Africa tend to have longer life expectancies compared to other nations, and if PPGDP correlated with life expectancy.\n",
    "\n",
    "From the dataset, we learned that there is a correlation between a country's economic indicators and the life expectancy of its citizens. We also found that as PPGDP increases, the effect of PPGDP on life expectancy decreases. Our findings suggest that being part of the OECD is associated with higher life expectancy, indicating that economic policies and support from this organization might contribute to better health outcomes. This insight could guide future investments and strategies aimed at enhancing the quality of life in different regions.\n",
    "\n"
   ]
  }
 ],
 "metadata": {
  "colab": {
   "provenance": []
  },
  "kernelspec": {
   "display_name": ".venv",
   "language": "python",
   "name": "python3"
  },
  "language_info": {
   "codemirror_mode": {
    "name": "ipython",
    "version": 3
   },
   "file_extension": ".py",
   "mimetype": "text/x-python",
   "name": "python",
   "nbconvert_exporter": "python",
   "pygments_lexer": "ipython3",
   "version": "3.11.9"
  }
 },
 "nbformat": 4,
 "nbformat_minor": 5
}
